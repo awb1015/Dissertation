{
 "cells": [
  {
   "cell_type": "code",
   "execution_count": 4,
   "metadata": {
    "collapsed": false
   },
   "outputs": [
    {
     "name": "stdout",
     "output_type": "stream",
     "text": [
      "Loading Array\n",
      "Array Loaded\n",
      "Generating Frame List\n",
      "List Saved\n"
     ]
    }
   ],
   "source": [
    "import numpy as np\n",
    "\n",
    "def naiveSolution(v):\n",
    "    print \"Loading Array\"\n",
    "    errors = np.loadtxt('array.txt')\n",
    "    print \"Array Loaded\"\n",
    "    frameCount = errors.shape[0]\n",
    "    #Create List\n",
    "    frameList = []\n",
    "    #Populate List\n",
    "    print \"Generating Frame List\"\n",
    "    for i in range(0, frameCount, v):\n",
    "       frameList.append(i) \n",
    "    #Save List\n",
    "    np.savetxt(\"naiveFrameList.txt\", frameList)\n",
    "    print \"List Saved\"\n",
    "    \n",
    "naiveSolution(5)"
   ]
  },
  {
   "cell_type": "code",
   "execution_count": null,
   "metadata": {
    "collapsed": true
   },
   "outputs": [],
   "source": []
  }
 ],
 "metadata": {
  "kernelspec": {
   "display_name": "Python 2",
   "language": "python",
   "name": "python2"
  },
  "language_info": {
   "codemirror_mode": {
    "name": "ipython",
    "version": 2
   },
   "file_extension": ".py",
   "mimetype": "text/x-python",
   "name": "python",
   "nbconvert_exporter": "python",
   "pygments_lexer": "ipython2",
   "version": "2.7.13"
  }
 },
 "nbformat": 4,
 "nbformat_minor": 2
}
