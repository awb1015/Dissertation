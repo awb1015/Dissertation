{
 "cells": [
  {
   "cell_type": "code",
   "execution_count": null,
   "metadata": {
    "collapsed": false
   },
   "outputs": [],
   "source": [
    "import cv2\n",
    "import numpy as np\n",
    "import matplotlib.pyplot as plt\n",
    "from skimage.measure import compare_ssim as ssim\n",
    "\n",
    "def mse (image1, image2):\n",
    "    error = np.sum((image1.astype('float') - image2.astype('float'))**2)\n",
    "    #Smaller is more similar\n",
    "    error = error/float(image1.shape[0]*image1.shape[1])\n",
    "    return error\n",
    "\n",
    "def dssimCompare (image1, image2):\n",
    "    #Smaller is more similar\n",
    "    return (1 - ssim(image1, image2, 3))/2\n",
    "\n",
    "def psnrCompare (image1, image2):\n",
    "    #See http://docs.opencv.org/2.4/doc/tutorials/highgui/video-input-psnr-ssim/video-input-psnr-ssim.html#videoinputpsnrmssim\n",
    "    #Larger is more similar!\n",
    "    error = 10*log10((255*255)/mse(image1, image2))\n",
    "    return error\n",
    "\n",
    "def msssimCompare(image1, image2):\n",
    "    return error\n",
    "    \n",
    "def plotError(frameCount):\n",
    "    print \"Now plotting errors\"\n",
    "    #Create a list of our errors between frame t and t-1 and between frame t and t+1 for all frames\n",
    "    #list comp then a for loop to populate\n",
    "    frameErrors =  [[0 for x in range(2)] for y in range(frameCount)]\n",
    "    for i in range(1, frameCount - 1):\n",
    "        image1 = cv2.imread(\"frame%0*d.png\" %(4,i))\n",
    "        image2 = cv2.imread(\"frame%0*d.png\" %(4,i-1))\n",
    "        frameErrors[i-1][0] = dssimCompare(image1, image2)\n",
    "        image2 = cv2.imread(\"frame%0*d.png\" %(4,i+1))\n",
    "        frameErrors[i-1][1] = dssimCompare(image1, image2)\n",
    "    #find a way to save our array with numpy here\n",
    "    \n",
    "    #declare heat dist plot and assign axis\n",
    "    #Maybe we can make the range(1, frameCount-1) a term on it's own to avoid the duplication we have above and below\n",
    "    x = range(1, frameCount-1)\n",
    "    y = range(1, frameCount-1)\n",
    "    z = #these are the actual values from our array\n",
    "    X, Y = np.meshgrid(x, y)\n",
    "    Z = z.reshape(len (x), len (y))\n",
    "    plt.pcolormesh(X, Y, Z)\n",
    "    plt.title('DSSIM Value Between Frames')\n",
    "    plt.grid(True)\n",
    "    plt.savefig(\"similarityplot.png\")\n",
    "    plt.show()\n",
    "\n",
    "#Main Function\n",
    "plotError()\n"
   ]
  },
  {
   "cell_type": "code",
   "execution_count": null,
   "metadata": {
    "collapsed": true
   },
   "outputs": [],
   "source": []
  },
  {
   "cell_type": "code",
   "execution_count": null,
   "metadata": {
    "collapsed": true
   },
   "outputs": [],
   "source": []
  }
 ],
 "metadata": {
  "kernelspec": {
   "display_name": "Python 2",
   "language": "python",
   "name": "python2"
  },
  "language_info": {
   "codemirror_mode": {
    "name": "ipython",
    "version": 2
   },
   "file_extension": ".py",
   "mimetype": "text/x-python",
   "name": "python",
   "nbconvert_exporter": "python",
   "pygments_lexer": "ipython2",
   "version": "2.7.13"
  }
 },
 "nbformat": 4,
 "nbformat_minor": 2
}
