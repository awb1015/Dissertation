{
 "cells": [
  {
   "cell_type": "code",
   "execution_count": null,
   "metadata": {
    "collapsed": false
   },
   "outputs": [],
   "source": [
    "import cv2\n",
    "import numpy as np\n",
    "import matplotlib.pyplot as plt\n",
    "from skimage.measure import compare_ssim as ssim\n",
    "\n",
    "def mse (image1, image2):\n",
    "    error = np.sum((image1.astype('float') - image2.astype('float'))**2)\n",
    "    #Smaller is more similar\n",
    "    error = error/float(image1.shape[0]*image1.shape[1])\n",
    "    return error\n",
    "\n",
    "def dssimCompare (image1, image2):\n",
    "    #Smaller is more similar\n",
    "    return (1 - ssim(image1, image2, 3))/2\n",
    "\n",
    "def psnrCompare (image1, image2):\n",
    "    #See http://docs.opencv.org/2.4/doc/tutorials/highgui/video-input-psnr-ssim/video-input-psnr-ssim.html#videoinputpsnrmssim\n",
    "    #Larger is more similar!\n",
    "    error = 10*log10((255*255)/mse(image1, image2))\n",
    "    return error\n",
    "\n",
    "def msssimCompare(image1, image2):\n",
    "    return error\n",
    "    \n",
    "def plotError(frameCount, extraDiag):\n",
    "    print \"Now plotting errors\"\n",
    "    #Create our array of zeros as a 2D numpy array\n",
    "    errors = np.zeros((frameCount, frameCount))\n",
    "    #Now Populate our 2 Diagonal Errors\n",
    "    #Current structure allows image1 error to be calculated once and reused\n",
    "    for i in range(0, frameCount-1):\n",
    "        image1 = cv2.imread(\"frame%0*d.png\" %(4,i+1))\n",
    "        image2 = cv2.imread(\"frame%0*d.png\" %(4,i+2))\n",
    "        #First Diagonal is y=x+1\n",
    "        errors[i][i+1]=mse(image1, image2)\n",
    "        #Second Diagonal is y=x+2\n",
    "        #This loop calls our extra diagonals for however many we specify\n",
    "        #Boolean prevents statement from even being evaluated\n",
    "        if(extraDiag>0):\n",
    "            for j in range(0, extraDiag):\n",
    "                image2 = cv2.imread(\"frame%0*d.png\" %(4,i+3+j))\n",
    "                errors[i][i+2+j]=mse(image1, image2)    \n",
    "    #Save our array\n",
    "    np.savetxt('array.txt', errors)\n",
    "    print \"Array saved to disk\"\n",
    "    #Now plot this thing\n",
    "    X, Y = np.meshgrid(x, y)\n",
    "    Z = z.reshape(len (x), len (y))\n",
    "    plt.pcolormesh(X, Y, Z)\n",
    "    plt.title('DSSIM Value Between Frames')\n",
    "    plt.grid(True)\n",
    "    plt.savefig(\"similarityplot.png\")\n",
    "    plt.show()\n",
    "\n",
    "#Main Function\n",
    "plotError(165, 0)\n"
   ]
  },
  {
   "cell_type": "code",
   "execution_count": null,
   "metadata": {
    "collapsed": true
   },
   "outputs": [],
   "source": []
  },
  {
   "cell_type": "code",
   "execution_count": null,
   "metadata": {
    "collapsed": true
   },
   "outputs": [],
   "source": []
  }
 ],
 "metadata": {
  "kernelspec": {
   "display_name": "Python 2",
   "language": "python",
   "name": "python2"
  },
  "language_info": {
   "codemirror_mode": {
    "name": "ipython",
    "version": 2
   },
   "file_extension": ".py",
   "mimetype": "text/x-python",
   "name": "python",
   "nbconvert_exporter": "python",
   "pygments_lexer": "ipython2",
   "version": "2.7.13"
  }
 },
 "nbformat": 4,
 "nbformat_minor": 2
}
