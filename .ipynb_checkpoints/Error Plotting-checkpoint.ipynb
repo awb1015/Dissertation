{
 "cells": [
  {
   "cell_type": "code",
   "execution_count": null,
   "metadata": {
    "collapsed": true
   },
   "outputs": [],
   "source": [
    "import cv2\n",
    "import numpy as np\n",
    "import matplotlib.pyplot as plt\n",
    "from skimage.measure import compare_ssim as ssim\n",
    "\n",
    "def mse (image1, image2):\n",
    "    error = np.sum((image1.astype('float') - image2.astype('float'))**2)\n",
    "    #Smaller is more similar\n",
    "    error = error/float(image1.shape[0]*image1.shape[1])\n",
    "    return error\n",
    "\n",
    "def dssimCompare (image1, image2):\n",
    "    #Smaller is more similar\n",
    "    return (1 - ssim(image1, image2, 3))/2\n",
    "\n",
    "def psnrCompare (image1, image2):\n",
    "    #See http://docs.opencv.org/2.4/doc/tutorials/highgui/video-input-psnr-ssim/video-input-psnr-ssim.html#videoinputpsnrmssim\n",
    "    #Larger is more similar!\n",
    "    error = 10*log10((255*255)/mse(image1, image2))\n",
    "    return error\n",
    "\n",
    "def msssimCompare(image1, image2):\n",
    "    return error\n",
    "    \n",
    "def plotErrors():\n",
    "    print \"Now plotting errors\"\n",
    "    t = np.arange(0.0, 2.0, 0.01)\n",
    "    s = 1 + np.sin(2*np.pi*t)\n",
    "    plt.plot(t, s)\n",
    "    plt.xlabel('time (s)')\n",
    "    plt.ylabel('voltage (mV)')\n",
    "    plt.title('About as simple as it gets, folks')\n",
    "    plt.grid(True)\n",
    "    plt.savefig(\"test.png\")\n",
    "    plt.show()\n",
    "\n",
    "#Main Function\n",
    "plotErrors()\n"
   ]
  },
  {
   "cell_type": "code",
   "execution_count": null,
   "metadata": {
    "collapsed": true
   },
   "outputs": [],
   "source": []
  },
  {
   "cell_type": "code",
   "execution_count": null,
   "metadata": {
    "collapsed": true
   },
   "outputs": [],
   "source": []
  }
 ],
 "metadata": {
  "kernelspec": {
   "display_name": "Python 2",
   "language": "python",
   "name": "python2"
  }
 },
 "nbformat": 4,
 "nbformat_minor": 2
}
