{
 "cells": [
  {
   "cell_type": "code",
   "execution_count": 2,
   "metadata": {
    "collapsed": false
   },
   "outputs": [
    {
     "name": "stdout",
     "output_type": "stream",
     "text": [
      "2017-07-13 15:20:54.001000\n",
      "Now Plotting Errors\n",
      "Array saved to disk\n"
     ]
    },
    {
     "data": {
      "image/png": "[encoded data removed]",
      "text/plain": [
       "<matplotlib.figure.Figure at 0x1ddf198>"
      ]
     },
     "metadata": {},
     "output_type": "display_data"
    },
    {
     "name": "stdout",
     "output_type": "stream",
     "text": [
      "Plot Saved to Disk\n"
     ]
    }
   ],
   "source": [
    "import cv2\n",
    "import numpy as np\n",
    "import matplotlib.pyplot as plt\n",
    "import similaritymetrics as ims\n",
    "import datetime\n",
    "import math\n",
    "\n",
    "def plotError(frameCount, extraDiag):\n",
    "    print \"Now plotting errors\"\n",
    "    #Create our array of zeros as a 2D numpy array\n",
    "    errors = np.zeros((frameCount, frameCount))\n",
    "    #Now Populate our 2 Diagonal Errors\n",
    "    #Current structure allows image0 loaded once and reused\n",
    "    for i in range(0, frameCount):\n",
    "        image1 = cv2.imread(\"frame%0*d.png\" %(4,i))\n",
    "        image2 = cv2.imread(\"frame%0*d.png\" %(4,i+1))\n",
    "        #First Diagonal is y=x+1\n",
    "        errors[i, i+1]=ims.dssimCompare(image1, image2)\n",
    "        #Second Diagonal is y=x+2\n",
    "        #This loop calls our extra diagonals for however many we specify\n",
    "        #We need to add guarding here to prevent looking for an image that extends beyond available frames\n",
    "        for j in range(0, extraDiag):\n",
    "            image2 = cv2.imread(\"frame%0*d.png\" %(4,i+3+j))\n",
    "            #null pointer type exception\n",
    "            if(image2 is None):\n",
    "                continue\n",
    "            errors[i, i+2+j]=ims.dssimCompare(image1, image2)    \n",
    "    #Save our array\n",
    "    np.savetxt('array.txt', errors)\n",
    "    print \"Array saved to disk\"\n",
    "    #Now plot and we need a way to save our plot\n",
    "    plt.imshow(errors, cmap='hot', interpolation='nearest')\n",
    "    plt.show()\n",
    "    plt.savefig(\"errorplot.png\")\n",
    "    print \"Plot Saved to Disk\"\n",
    "    \n",
    "def plotErrorDict(frameCount, extraDiag):\n",
    "    print \"Now Plotting Errors\"\n",
    "    errors = np.zeros((frameCount, frameCount))\n",
    "    #Create Dictionary with initial items\n",
    "    imagedict = {}\n",
    "    for i in range(0, frameCount):\n",
    "        #Add Entries to Dictionary, only add a single entry when i>1\n",
    "        if(i>0):\n",
    "            imagedict[\"{0}\".format(i+extraDiag+1)]= cv2.imread(\"frame%0*d.png\" %(4,i+extraDiag+1))\n",
    "        else:\n",
    "            for j in range(i, extraDiag+2):   \n",
    "                imagedict[\"{0}\".format(j)]= cv2.imread(\"frame%0*d.png\" %(4,j))\n",
    "        #Then Compare\n",
    "        for k in range(i+1, i+extraDiag+2):\n",
    "            if(imagedict[\"%d\" %(k)] is None):\n",
    "                continue\n",
    "            errors[i,k] = ims.mse(imagedict[\"%d\" %(i)],imagedict[\"%d\" %(k)])\n",
    "        #Then delete as needed, we'll delete the earliest created entry\n",
    "        del imagedict[\"%d\" %(i)]\n",
    "    np.savetxt('array.txt', errors)\n",
    "    print \"Array saved to disk\"\n",
    "    #Now plot and we need a way to save our plot\n",
    "    plt.imshow(errors, cmap='hot', interpolation='nearest')\n",
    "    plt.show()\n",
    "    plt.savefig(\"errorplot.png\")\n",
    "    print \"Plot Saved to Disk\"\n",
    "    \n",
    "#Main Function\n",
    "#By this unscientific timing the first algo takes 24 seconds and the dictionary based approach is 16 seconds. So roughly 33% quicker\n",
    "#Repeated with dSSIM we have 7min 6sec and 6min 42 sec. Likely due to the fact that the increase is due to dSSIM being more costly\n",
    "#int datetime.datetime.utcnow()\n",
    "#plotError(165, 6)\n",
    "print datetime.datetime.utcnow()\n",
    "plotErrorDict(165, 3)\n"
   ]
  },
  {
   "cell_type": "code",
   "execution_count": null,
   "metadata": {
    "collapsed": true
   },
   "outputs": [],
   "source": []
  },
  {
   "cell_type": "code",
   "execution_count": null,
   "metadata": {
    "collapsed": true
   },
   "outputs": [],
   "source": []
  }
 ],
 "metadata": {
  "kernelspec": {
   "display_name": "Python 2",
   "language": "python",
   "name": "python2"
  },
  "language_info": {
   "codemirror_mode": {
    "name": "ipython",
    "version": 2
   },
   "file_extension": ".py",
   "mimetype": "text/x-python",
   "name": "python",
   "nbconvert_exporter": "python",
   "pygments_lexer": "ipython2",
   "version": "2.7.13"
  }
 },
 "nbformat": 4,
 "nbformat_minor": 2
}
