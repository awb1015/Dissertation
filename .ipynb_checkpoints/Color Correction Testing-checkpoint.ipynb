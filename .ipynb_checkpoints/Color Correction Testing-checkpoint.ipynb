{
 "cells": [
  {
   "cell_type": "code",
   "execution_count": 7,
   "metadata": {
    "collapsed": false
   },
   "outputs": [
    {
     "name": "stdout",
     "output_type": "stream",
     "text": [
      "Calculating Averages\n",
      "Averages computed now plotting\n"
     ]
    },
    {
     "data": {
      "image/png": "[encoded data removed]",
      "text/plain": [
       "<matplotlib.figure.Figure at 0xadb90b8>"
      ]
     },
     "metadata": {},
     "output_type": "display_data"
    },
    {
     "name": "stdout",
     "output_type": "stream",
     "text": [
      "Now filtering averages and standard deviations\n",
      "(51L,)\n"
     ]
    },
    {
     "data": {
      "image/png": "[encoded data removed]",
      "text/plain": [
       "<matplotlib.figure.Figure at 0x92761d0>"
      ]
     },
     "metadata": {},
     "output_type": "display_data"
    }
   ],
   "source": [
    "import cv2\n",
    "import numpy as np\n",
    "from matplotlib import pyplot as plt\n",
    "import scipy\n",
    "import scipy.ndimage\n",
    "\n",
    "#This code is based on the link below\n",
    "#http://www.pyimagesearch.com/2014/01/22/clever-girl-a-guide-to-utilizing-color-histograms-for-computer-vision-and-image-search-engines/\n",
    "def showFlattenedHist(image):\n",
    "    chans = cv2.split(image)\n",
    "    colors = (\"b\", \"g\", \"r\")\n",
    "    plt.figure()\n",
    "    plt.title(\"'Flattened' Color Histogram\")\n",
    "    plt.xlabel(\"Bins\")\n",
    "    plt.ylabel(\"# of Pixels\")\n",
    "    features = []\n",
    "    for (chan, color) in zip(chans, colors):\n",
    "        hist = cv2.calcHist([chan], [0], None, [256], [0, 256])\n",
    "        features.extend(hist)\n",
    "        plt.plot(hist, color = color)\n",
    "        plt.xlim([0, 256])\n",
    "    plt.show()\n",
    "    print \"flattened feature vector size: %d\" % (np.array(features).flatten().shape)\n",
    "\n",
    "def averageandstd(frameCount):\n",
    "    #Create Lists to Store these values\n",
    "    average_colours = np.zeros((frameCount+1, 3))\n",
    "    std_dev_colours = np.zeros((frameCount+1, 3))\n",
    "    print 'Calculating Averages'\n",
    "    for i in range(0, frameCount+1):\n",
    "        image = cv2.imread('C:\\\\Users\\\\Alex\\\\Documents\\\\Dissertation\\\\cleanedTimeLapseFrame\\\\image%0*d.jpg' %(4, i))\n",
    "        #OpenCV sees colour values as BGR\n",
    "        #Code based on this URL\n",
    "        #http://miriamposner.com/classes/medimages/3-use-opencv-to-find-the-average-color-of-an-image/\n",
    "        avg_colour_per_row = np.average(image, axis=0)\n",
    "        avg_colour = np.average(avg_colour_per_row, axis=0)\n",
    "        std_dev_per_row = np.std(image, axis=0)\n",
    "        std_dev_colour = np.std(std_dev_per_row, axis = 0)\n",
    "        #This tuple should be our avergage B, G, R values and std dev, fill some kind of data structure\n",
    "        average_colours[i,0] = avg_colour[0]\n",
    "        average_colours[i,1] = avg_colour[1]\n",
    "        average_colours[i,2] = avg_colour[2]\n",
    "        std_dev_colours[i,0] = std_dev_colour[0]\n",
    "        std_dev_colours[i,1] = std_dev_colour[1]\n",
    "        std_dev_colours[i,2] = std_dev_colour[2]\n",
    "    print 'Averages computed now plotting'\n",
    "    #Lets plot our averages and std_dev\n",
    "    plotaveragesstd(average_colours, frameCount)\n",
    "    #Now apply a low pass filter to colours and standard deviations\n",
    "    print 'Now filtering averages and standard deviations'\n",
    "    #First Filter B/G/R Values\n",
    "    filtered_b = lowPassGaussianFilter(average_colours[:,0], frameCount)\n",
    "    filtered_g = lowPassGaussianFilter(average_colours[:,1], frameCount)\n",
    "    filtered_r = lowPassGaussianFilter(average_colours[:,2], frameCount)\n",
    "    #Now Filter Standard Deviations\n",
    "    plt.figure()\n",
    "    plt.title(\"Filtered Blue Values\")\n",
    "    plt.xlabel(\"Frame Number\")\n",
    "    plt.ylabel(\"Value\")\n",
    "    for i in range(0, frameCount+1):\n",
    "        plt.plot(i, filtered_b[i], marker='.', ms = 3, alpha=1, color='b')\n",
    "    plt.show()\n",
    "    #Now normalise and save values\n",
    "\n",
    "\n",
    "def plotaveragesstd(average_colours, frameCount):\n",
    "    plt.figure()\n",
    "    plt.title(\"Average RGB values per Frame\")\n",
    "    plt.xlabel(\"Frame Number\")\n",
    "    plt.ylabel(\"Value\")\n",
    "    for i in range(0, frameCount+1):\n",
    "        plt.plot(i, average_colours[i,0], marker='.', ms = 3, alpha=1, color='b')\n",
    "        plt.plot(i, average_colours[i,1], marker='.', ms = 3, alpha=1, color='g')\n",
    "        plt.plot(i, average_colours[i,2], marker='.', ms = 3, alpha=1, color='r')\n",
    "    plt.show()\n",
    "\n",
    "def lowPassGaussianFilter(inputlist, frameCount):\n",
    "    filteredlist = np.zeros((frameCount+1))\n",
    "    sigma = 160\n",
    "    scipy.ndimage.filters.gaussian_filter1d(inputlist, sigma, axis=-1, output = filteredlist, truncate=4.0)\n",
    "    return filteredlist\n",
    "    \n",
    "\n",
    "#Read two images\n",
    "#image1 = cv2.imread('C:\\\\Users\\\\Alex\\\\Documents\\\\Dissertation\\\\cleanedTimeLapseFrame\\\\image0000.jpg')\n",
    "#image2 = cv2.imread('C:\\\\Users\\\\Alex\\\\Documents\\\\Dissertation\\\\cleanedTimeLapseFrame\\\\image0001.jpg')\n",
    "#showFlattenedHist(image2)\n",
    "#Now let's attempt to plot a basic histogram for the colour channels of this image\n",
    "averageandstd(50)\n",
    "\n"
   ]
  },
  {
   "cell_type": "code",
   "execution_count": null,
   "metadata": {
    "collapsed": true
   },
   "outputs": [],
   "source": []
  },
  {
   "cell_type": "code",
   "execution_count": null,
   "metadata": {
    "collapsed": true
   },
   "outputs": [],
   "source": []
  }
 ],
 "metadata": {
  "kernelspec": {
   "display_name": "Python 2",
   "language": "python",
   "name": "python2"
  },
  "language_info": {
   "codemirror_mode": {
    "name": "ipython",
    "version": 2
   },
   "file_extension": ".py",
   "mimetype": "text/x-python",
   "name": "python",
   "nbconvert_exporter": "python",
   "pygments_lexer": "ipython2",
   "version": "2.7.13"
  }
 },
 "nbformat": 4,
 "nbformat_minor": 2
}
