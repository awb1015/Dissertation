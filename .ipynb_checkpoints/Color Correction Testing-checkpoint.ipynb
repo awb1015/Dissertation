{
 "cells": [
  {
   "cell_type": "code",
   "execution_count": 38,
   "metadata": {
    "collapsed": false
   },
   "outputs": [
    {
     "data": {
      "image/png": "[encoded data removed]",
      "text/plain": [
       "<matplotlib.figure.Figure at 0x84d74a8>"
      ]
     },
     "metadata": {},
     "output_type": "display_data"
    }
   ],
   "source": [
    "import cv2\n",
    "import numpy as np\n",
    "from matplotlib import pyplot as plt\n",
    "\n",
    "#This code is based on the link below\n",
    "#http://www.pyimagesearch.com/2014/01/22/clever-girl-a-guide-to-utilizing-color-histograms-for-computer-vision-and-image-search-engines/\n",
    "def showFlattenedHist(image):\n",
    "    chans = cv2.split(image)\n",
    "    colors = (\"b\", \"g\", \"r\")\n",
    "    plt.figure()\n",
    "    plt.title(\"'Flattened' Color Histogram\")\n",
    "    plt.xlabel(\"Bins\")\n",
    "    plt.ylabel(\"# of Pixels\")\n",
    "    features = []\n",
    "    for (chan, color) in zip(chans, colors):\n",
    "        hist = cv2.calcHist([chan], [0], None, [256], [0, 256])\n",
    "        features.extend(hist)\n",
    "        plt.plot(hist, color = color)\n",
    "        plt.xlim([0, 256])\n",
    "    plt.show()\n",
    "    print \"flattened feature vector size: %d\" % (np.array(features).flatten().shape)\n",
    "\n",
    "def averageandstd(frameCount):\n",
    "    #Create Lists to Store these values\n",
    "    average_colours = []\n",
    "    std_dev_colours = []\n",
    "    for i in range(0, frameCount+1):\n",
    "        image = cv2.imread('C:\\\\Users\\\\Alex\\\\Documents\\\\Dissertation\\\\cleanedTimeLapseFrame\\\\image%0*d.jpg' %(4, i))\n",
    "        #OpenCV sees colour values as BGR\n",
    "        #Code based on this URL\n",
    "        #http://miriamposner.com/classes/medimages/3-use-opencv-to-find-the-average-color-of-an-image/\n",
    "        avg_colour_per_row = np.average(image, axis=0)\n",
    "        avg_colour = np.average(avg_colour_per_row, axis=0)\n",
    "        std_dev_per_row = np.std(image, axis=0)\n",
    "        std_dev_colour = np.std(std_dev_per_row, axis = 0)\n",
    "        #This tuple should be our avergage B, G, R values and std dev, fill some kind of data structure\n",
    "        average_colours.append(avg_colour)\n",
    "        std_dev_colours.append(std_dev_colour)\n",
    "    #Lets plot our averages and std_dev\n",
    "    plotaveragesstd(average_colours, frameCount)\n",
    "    #Now apply a low pass filter to colours and standard deviations\n",
    "    \n",
    "    \n",
    "    \n",
    "def plotaveragesstd(average_colours, frameCount):\n",
    "    plt.figure()\n",
    "    plt.title(\"Average RGB values per Frame\")\n",
    "    plt.xlabel(\"Frame Number\")\n",
    "    plt.ylabel(\"Value\")\n",
    "    for i in range(0, frameCount+1):\n",
    "        plt.plot(i, average_colours[i][0], marker='.', ms = 3, alpha=1, color='b')\n",
    "        plt.plot(i, average_colours[i][1], marker='.', ms = 3, alpha=1, color='g')\n",
    "        plt.plot(i, average_colours[i][2], marker='.', ms = 3, alpha=1, color='r')\n",
    "    plt.show()\n",
    "\n",
    "#Read two images\n",
    "#image1 = cv2.imread('C:\\\\Users\\\\Alex\\\\Documents\\\\Dissertation\\\\cleanedTimeLapseFrame\\\\image0000.jpg')\n",
    "#image2 = cv2.imread('C:\\\\Users\\\\Alex\\\\Documents\\\\Dissertation\\\\cleanedTimeLapseFrame\\\\image0001.jpg')\n",
    "#showFlattenedHist(image2)\n",
    "#Now let's attempt to plot a basic histogram for the colour channels of this image\n",
    "averageandstd(50)\n",
    "\n"
   ]
  },
  {
   "cell_type": "code",
   "execution_count": null,
   "metadata": {
    "collapsed": true
   },
   "outputs": [],
   "source": []
  },
  {
   "cell_type": "code",
   "execution_count": null,
   "metadata": {
    "collapsed": true
   },
   "outputs": [],
   "source": []
  }
 ],
 "metadata": {
  "kernelspec": {
   "display_name": "Python 2",
   "language": "python",
   "name": "python2"
  },
  "language_info": {
   "codemirror_mode": {
    "name": "ipython",
    "version": 2
   },
   "file_extension": ".py",
   "mimetype": "text/x-python",
   "name": "python",
   "nbconvert_exporter": "python",
   "pygments_lexer": "ipython2",
   "version": "2.7.13"
  }
 },
 "nbformat": 4,
 "nbformat_minor": 2
}
