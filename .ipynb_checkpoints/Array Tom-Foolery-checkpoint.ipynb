{
 "cells": [
  {
   "cell_type": "code",
   "execution_count": 15,
   "metadata": {
    "collapsed": false
   },
   "outputs": [
    {
     "name": "stdout",
     "output_type": "stream",
     "text": [
      "[[  0.  50.  27.  52.   3.  31.  84.  88.  43.]\n",
      " [  0.   0.   1.  75.   1.  14.  67.   6.  80.]\n",
      " [  0.   0.   0.  63.  83.  94.  94.   8.  82.]\n",
      " [  0.   0.   0.   0.  37.  49.  24.   3.  22.]\n",
      " [  0.   0.   0.   0.   0.  34.  49.  32.  36.]\n",
      " [  0.   0.   0.   0.   0.   0.  95.  24.  44.]\n",
      " [  0.   0.   0.   0.   0.   0.   0.  74.   2.]\n",
      " [  0.   0.   0.   0.   0.   0.   0.   0.  68.]\n",
      " [  0.   0.   0.   0.   0.   0.   0.   0.   0.]]\n",
      "11\n",
      "1\n",
      "2\n"
     ]
    }
   ],
   "source": [
    "import numpy as np\n",
    "import numpy.ma as ma\n",
    "import random\n",
    "\n",
    "size = 9\n",
    "myarray = np.zeros((size,size))\n",
    "for i in range(0, size):\n",
    "    for j in range(i+1,size):\n",
    "        if(i<size and j < size):\n",
    "            myarray[i,j] = random.randint(0,100)\n",
    "print myarray\n",
    "#This seems to work\n",
    "\n",
    "\n",
    "#Create a masked array for all values of 0\n",
    "\n",
    "maskedarray = ma.masked_equal(myarray, 0)\n",
    "print maskedarray.argmin()\n",
    "print np.unravel_index(maskedarray.argmin(), myarray.shape)[0]\n",
    "print np.unravel_index(maskedarray.argmin(), myarray.shape)[1]\n",
    "\n",
    "#endframes = []\n",
    "#for i in range (1, 3):\n",
    "    #endframes.extend(np.diagonal(myarray, i, 0, 1)[-(3-i):])\n",
    "#print endframes\n",
    "#print np.argmin(endframes)\n",
    "\n",
    "        \n"
   ]
  },
  {
   "cell_type": "code",
   "execution_count": null,
   "metadata": {
    "collapsed": true
   },
   "outputs": [],
   "source": []
  },
  {
   "cell_type": "code",
   "execution_count": null,
   "metadata": {
    "collapsed": true
   },
   "outputs": [],
   "source": []
  },
  {
   "cell_type": "code",
   "execution_count": null,
   "metadata": {
    "collapsed": true
   },
   "outputs": [],
   "source": []
  }
 ],
 "metadata": {
  "kernelspec": {
   "display_name": "Python 2",
   "language": "python",
   "name": "python2"
  },
  "language_info": {
   "codemirror_mode": {
    "name": "ipython",
    "version": 2
   },
   "file_extension": ".py",
   "mimetype": "text/x-python",
   "name": "python",
   "nbconvert_exporter": "python",
   "pygments_lexer": "ipython2",
   "version": "2.7.13"
  }
 },
 "nbformat": 4,
 "nbformat_minor": 2
}
