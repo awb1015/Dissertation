{
 "cells": [
  {
   "cell_type": "code",
   "execution_count": 6,
   "metadata": {
    "collapsed": false
   },
   "outputs": [
    {
     "name": "stdout",
     "output_type": "stream",
     "text": [
      "Loading Frame List\n",
      "All Frames Added\n",
      "Video released\n",
      "All Windows Destroyed\n"
     ]
    }
   ],
   "source": [
    "import numpy as np\n",
    "import cv2\n",
    "\n",
    "\n",
    "def VideoBuild():\n",
    "    print \"Loading Frame List\"\n",
    "    frameList = np.loadtxt('framelist.txt')\n",
    "    sampleimageshape = cv2.imread(\"frame%0*d.png\" %(4, frameList[0]))\n",
    "    height, width, layers = sampleimageshape.shape\n",
    "    video = cv2.VideoWriter('newTimeLapse.avi', 0, 30.0, (width, height))\n",
    "    for i in range (0, len(frameList)):\n",
    "        video.write(cv2.imread(\"frame%0*d.png\" %(4, frameList[i])))\n",
    "    print \"All Frames Added\"\n",
    "    video.release()\n",
    "    print \"Video released\"\n",
    "    cv2.destroyAllWindows()\n",
    "    print \"All Windows Destroyed\"\n",
    "    \n",
    "VideoBuild()        \n",
    "    "
   ]
  },
  {
   "cell_type": "code",
   "execution_count": null,
   "metadata": {
    "collapsed": true
   },
   "outputs": [],
   "source": []
  },
  {
   "cell_type": "code",
   "execution_count": null,
   "metadata": {
    "collapsed": true
   },
   "outputs": [],
   "source": []
  }
 ],
 "metadata": {
  "kernelspec": {
   "display_name": "Python 2",
   "language": "python",
   "name": "python2"
  },
  "language_info": {
   "codemirror_mode": {
    "name": "ipython",
    "version": 2
   },
   "file_extension": ".py",
   "mimetype": "text/x-python",
   "name": "python",
   "nbconvert_exporter": "python",
   "pygments_lexer": "ipython2",
   "version": "2.7.13"
  }
 },
 "nbformat": 4,
 "nbformat_minor": 2
}
