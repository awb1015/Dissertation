{
 "cells": [
  {
   "cell_type": "code",
   "execution_count": 1,
   "metadata": {
    "collapsed": false
   },
   "outputs": [],
   "source": [
    "#This is a simple file to attempt to decompose a video into jpegs of frames\n",
    "import cv2\n",
    "import numpy as np\n",
    "\n",
    "#Save our frames as jpegs\n",
    "vidcap = cv2.VideoCapture('small.mp4')\n",
    "success,image = vidcap.read()\n",
    "count = 1\n",
    "while success:\n",
    "    success,image = vidcap.read()\n",
    "    cv2.imwrite(\"frame%d.png\" % count, image)\n",
    "    count +=1\n",
    "vidcap.release()\n",
    "cv2.destroyAllWindows()\n"
   ]
  },
  {
   "cell_type": "code",
   "execution_count": null,
   "metadata": {
    "collapsed": true
   },
   "outputs": [],
   "source": []
  }
 ],
 "metadata": {
  "kernelspec": {
   "display_name": "Python 2",
   "language": "python",
   "name": "python2"
  },
  "language_info": {
   "codemirror_mode": {
    "name": "ipython",
    "version": 2
   },
   "file_extension": ".py",
   "mimetype": "text/x-python",
   "name": "python",
   "nbconvert_exporter": "python",
   "pygments_lexer": "ipython2",
   "version": "2.7.13"
  }
 },
 "nbformat": 4,
 "nbformat_minor": 2
}
