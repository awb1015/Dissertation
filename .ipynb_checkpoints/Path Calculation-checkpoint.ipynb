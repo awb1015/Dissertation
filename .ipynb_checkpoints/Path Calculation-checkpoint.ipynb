{
 "cells": [
  {
   "cell_type": "code",
   "execution_count": 13,
   "metadata": {
    "collapsed": false
   },
   "outputs": [
    {
     "name": "stdout",
     "output_type": "stream",
     "text": [
      "2017-07-12 20:39:54.798000\n",
      "Loading Array\n",
      "Array Loaded\n",
      "Speed Up Cost Added\n"
     ]
    },
    {
     "ename": "TypeError",
     "evalue": "unsupported operand type(s) for -: 'list' and 'int'",
     "output_type": "error",
     "traceback": [
      "\u001b[0;31m---------------------------------------------------------------------------\u001b[0m",
      "\u001b[0;31mTypeError\u001b[0m                                 Traceback (most recent call last)",
      "\u001b[0;32m<ipython-input-13-f5a19389e45a>\u001b[0m in \u001b[0;36m<module>\u001b[0;34m()\u001b[0m\n\u001b[1;32m     60\u001b[0m \u001b[1;33m\u001b[0m\u001b[0m\n\u001b[1;32m     61\u001b[0m \u001b[1;32mprint\u001b[0m \u001b[0mdatetime\u001b[0m\u001b[1;33m.\u001b[0m\u001b[0mdatetime\u001b[0m\u001b[1;33m.\u001b[0m\u001b[0mutcnow\u001b[0m\u001b[1;33m(\u001b[0m\u001b[1;33m)\u001b[0m\u001b[1;33m\u001b[0m\u001b[0m\n\u001b[0;32m---> 62\u001b[0;31m \u001b[0marrayPath\u001b[0m\u001b[1;33m(\u001b[0m\u001b[1;36m165\u001b[0m\u001b[1;33m,\u001b[0m \u001b[1;36m6\u001b[0m\u001b[1;33m,\u001b[0m \u001b[1;36m4\u001b[0m\u001b[1;33m)\u001b[0m\u001b[1;33m\u001b[0m\u001b[0m\n\u001b[0m",
      "\u001b[0;32m<ipython-input-13-f5a19389e45a>\u001b[0m in \u001b[0;36marrayPath\u001b[0;34m(frameCount, extraDiag, v)\u001b[0m\n\u001b[1;32m     38\u001b[0m             \u001b[0mn1\u001b[0m \u001b[1;33m=\u001b[0m \u001b[0mrange\u001b[0m\u001b[1;33m(\u001b[0m\u001b[0mi\u001b[0m\u001b[1;33m-\u001b[0m\u001b[1;36m1\u001b[0m\u001b[1;33m,\u001b[0m \u001b[0mi\u001b[0m\u001b[1;33m-\u001b[0m\u001b[1;33m(\u001b[0m\u001b[0mextraDiag\u001b[0m\u001b[1;33m+\u001b[0m\u001b[1;36m2\u001b[0m\u001b[1;33m)\u001b[0m\u001b[1;33m,\u001b[0m\u001b[1;33m-\u001b[0m\u001b[1;36m1\u001b[0m\u001b[1;33m)\u001b[0m\u001b[1;33m\u001b[0m\u001b[0m\n\u001b[1;32m     39\u001b[0m             \u001b[1;32mif\u001b[0m\u001b[1;33m(\u001b[0m\u001b[0mj\u001b[0m\u001b[1;33m<=\u001b[0m\u001b[0mframeCount\u001b[0m \u001b[1;32mand\u001b[0m \u001b[0mi\u001b[0m\u001b[1;33m<=\u001b[0m\u001b[0mframeCount\u001b[0m\u001b[1;33m)\u001b[0m\u001b[1;33m:\u001b[0m\u001b[1;33m\u001b[0m\u001b[0m\n\u001b[0;32m---> 40\u001b[0;31m                 \u001b[0merrors\u001b[0m\u001b[1;33m[\u001b[0m\u001b[0mi\u001b[0m\u001b[1;33m,\u001b[0m \u001b[0mj\u001b[0m\u001b[1;33m]\u001b[0m\u001b[1;33m=\u001b[0m\u001b[0mnp\u001b[0m\u001b[1;33m.\u001b[0m\u001b[0mmin\u001b[0m\u001b[1;33m(\u001b[0m\u001b[0merrors\u001b[0m\u001b[1;33m[\u001b[0m\u001b[0mn1\u001b[0m\u001b[1;33m,\u001b[0m \u001b[0mi\u001b[0m\u001b[1;33m]\u001b[0m \u001b[1;33m+\u001b[0m \u001b[0mlambdaa\u001b[0m\u001b[1;33m*\u001b[0m\u001b[0mframeAccelCost\u001b[0m\u001b[1;33m(\u001b[0m\u001b[0mn1\u001b[0m\u001b[1;33m,\u001b[0m \u001b[0mi\u001b[0m\u001b[1;33m,\u001b[0m \u001b[0mj\u001b[0m\u001b[1;33m)\u001b[0m\u001b[1;33m)\u001b[0m\u001b[1;33m\u001b[0m\u001b[0m\n\u001b[0m\u001b[1;32m     41\u001b[0m \u001b[1;33m\u001b[0m\u001b[0m\n\u001b[1;32m     42\u001b[0m                 \u001b[1;31m#Is this next line correct or should we not build on the prior result? Pseudo-code is ambiguous\u001b[0m\u001b[1;33m\u001b[0m\u001b[1;33m\u001b[0m\u001b[0m\n",
      "\u001b[0;32m<ipython-input-13-f5a19389e45a>\u001b[0m in \u001b[0;36mframeAccelCost\u001b[0;34m(h, i, j)\u001b[0m\n\u001b[1;32m     13\u001b[0m \u001b[1;33m\u001b[0m\u001b[0m\n\u001b[1;32m     14\u001b[0m \u001b[1;32mdef\u001b[0m \u001b[0mframeAccelCost\u001b[0m\u001b[1;33m(\u001b[0m\u001b[0mh\u001b[0m\u001b[1;33m,\u001b[0m \u001b[0mi\u001b[0m\u001b[1;33m,\u001b[0m \u001b[0mj\u001b[0m\u001b[1;33m)\u001b[0m\u001b[1;33m:\u001b[0m\u001b[1;33m\u001b[0m\u001b[0m\n\u001b[0;32m---> 15\u001b[0;31m     \u001b[0mframeaccelerationcost\u001b[0m \u001b[1;33m=\u001b[0m \u001b[0mmin\u001b[0m\u001b[1;33m(\u001b[0m\u001b[0mmath\u001b[0m\u001b[1;33m.\u001b[0m\u001b[0mpow\u001b[0m\u001b[1;33m(\u001b[0m\u001b[1;33m(\u001b[0m\u001b[1;33m(\u001b[0m\u001b[0mj\u001b[0m\u001b[1;33m-\u001b[0m\u001b[0mi\u001b[0m\u001b[1;33m)\u001b[0m \u001b[1;33m-\u001b[0m \u001b[1;33m(\u001b[0m\u001b[0mh\u001b[0m\u001b[1;33m-\u001b[0m\u001b[0mi\u001b[0m\u001b[1;33m)\u001b[0m\u001b[1;33m)\u001b[0m\u001b[1;33m,\u001b[0m\u001b[1;36m2\u001b[0m\u001b[1;33m)\u001b[0m\u001b[1;33m,\u001b[0m \u001b[0mtaua\u001b[0m\u001b[1;33m)\u001b[0m\u001b[1;33m\u001b[0m\u001b[0m\n\u001b[0m\u001b[1;32m     16\u001b[0m     \u001b[1;32mreturn\u001b[0m \u001b[0mframeaccelerationcost\u001b[0m\u001b[1;33m\u001b[0m\u001b[0m\n\u001b[1;32m     17\u001b[0m \u001b[1;33m\u001b[0m\u001b[0m\n",
      "\u001b[0;31mTypeError\u001b[0m: unsupported operand type(s) for -: 'list' and 'int'"
     ]
    }
   ],
   "source": [
    "import numpy as np\n",
    "import math\n",
    "import datetime\n",
    "\n",
    "lambdaa = 80\n",
    "lambdas = 200\n",
    "taus = 200\n",
    "taua = 200\n",
    "\n",
    "def frameDevFunction(i, j, v):\n",
    "    frameCostValue = min(math.pow(((j-i)-v),2), taus)\n",
    "    return frameCostValue\n",
    "\n",
    "def frameAccelCost(h, i, j):\n",
    "    frameaccelerationcost = min(math.pow(((j-i) - (h-i)),2), taua)\n",
    "    return frameaccelerationcost\n",
    "\n",
    "def arrayPath(frameCount, extraDiag, v):\n",
    "    \n",
    "    #v is targetted speed up; v<=extraDiag\n",
    "    print \"Loading Array\"\n",
    "    errors = np.loadtxt('array.txt')\n",
    "    print \"Array Loaded\"\n",
    "    #Add our speed up cost function\n",
    "    for i in range(0, frameCount):\n",
    "        for j in range(i+1, i+extraDiag+2):\n",
    "            if(j<=frameCount & i<=frameCount):\n",
    "                errors[i,j] += lambdas * frameDevFunction(i, j, v)\n",
    "    print \"Speed Up Cost Added\"\n",
    "    \n",
    "    #Array is populated now assess costs\n",
    "    costmatrix = np.zeros((frameCount, frameCount))\n",
    "    \n",
    "    #First Pass of Populate\n",
    "    for i in range(15,frameCount):\n",
    "        for j in range(i+1, i+extraDiag+2):\n",
    "            #This range is empty because the numbers decrease, add the -1 operator\n",
    "            n1 = range(i-1, i-(extraDiag+2),-1)\n",
    "            if(j<=frameCount and i<=frameCount):\n",
    "                #We have a mismatch between the list input and ints for the frameAccelCost function\n",
    "                errors[i, j]=np.min(errors[n1, i] + lambdaa*frameAccelCost(n1, i, j))               \n",
    "                #Is this next line correct or should we not build on the prior result? Pseudo-code is ambiguous\n",
    "                costmatrix[i, j] = i - (w - np.argmin(errors[n1, i] + lambdaa*frameAccelCost(n1, i, j)))\n",
    "    print \"Cost Matrix Calculated\"\n",
    "    \n",
    "    #Second Pass Trace Back Min Cost\n",
    "    #Multi-dimensional argmin to set initial values of s and d (basically the min value in the last few rows we can select)\n",
    "    #This will do for now\n",
    "    s = frameCount - 1\n",
    "    d = s + 1\n",
    "    \n",
    "    p = []\n",
    "    while(s>frameCount):\n",
    "        #Prepend to List and work our way back up through the cost matrix\n",
    "        p.insert(0, s)\n",
    "        b = costmatrix[s, d]\n",
    "        d = s\n",
    "        s = b\n",
    "    return p\n",
    "\n",
    "print datetime.datetime.utcnow()\n",
    "arrayPath(165, 6, 4)"
   ]
  },
  {
   "cell_type": "code",
   "execution_count": null,
   "metadata": {
    "collapsed": true
   },
   "outputs": [],
   "source": []
  },
  {
   "cell_type": "code",
   "execution_count": null,
   "metadata": {
    "collapsed": true
   },
   "outputs": [],
   "source": []
  }
 ],
 "metadata": {
  "kernelspec": {
   "display_name": "Python 2",
   "language": "python",
   "name": "python2"
  }
 },
 "nbformat": 4,
 "nbformat_minor": 2
}
