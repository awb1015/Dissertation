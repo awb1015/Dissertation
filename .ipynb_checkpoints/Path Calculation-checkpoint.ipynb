{
 "cells": [
  {
   "cell_type": "code",
   "execution_count": 9,
   "metadata": {
    "collapsed": false
   },
   "outputs": [
    {
     "name": "stdout",
     "output_type": "stream",
     "text": [
      "Loading Array\n",
      "Array Loaded\n",
      "Speed Up Cost Added\n",
      "Cost Matrix Calculated\n"
     ]
    },
    {
     "name": "stderr",
     "output_type": "stream",
     "text": [
      "C:\\ProgramData\\Anaconda2\\lib\\site-packages\\ipykernel\\__main__.py:61: VisibleDeprecationWarning: using a non-integer number instead of an integer will result in an error in the future\n"
     ]
    },
    {
     "data": {
      "text/plain": [
       "[5.0,\n",
       " 9.0,\n",
       " 13.0,\n",
       " 17.0,\n",
       " 21.0,\n",
       " 25.0,\n",
       " 29.0,\n",
       " 33.0,\n",
       " 37.0,\n",
       " 41.0,\n",
       " 45.0,\n",
       " 49.0,\n",
       " 53.0,\n",
       " 57.0,\n",
       " 61.0,\n",
       " 65.0,\n",
       " 69.0,\n",
       " 73.0,\n",
       " 77.0,\n",
       " 81.0,\n",
       " 85.0,\n",
       " 89.0,\n",
       " 93.0,\n",
       " 97.0,\n",
       " 101.0,\n",
       " 105.0,\n",
       " 109.0,\n",
       " 113.0,\n",
       " 117.0,\n",
       " 121.0,\n",
       " 125.0,\n",
       " 129.0,\n",
       " 133.0,\n",
       " 137.0,\n",
       " 141.0,\n",
       " 145.0,\n",
       " 149.0,\n",
       " 153.0,\n",
       " 157.0,\n",
       " 161]"
      ]
     },
     "execution_count": 9,
     "metadata": {},
     "output_type": "execute_result"
    }
   ],
   "source": [
    "import numpy as np\n",
    "import numpy.ma as ma\n",
    "import math\n",
    "import datetime\n",
    "\n",
    "lambdaa = 80\n",
    "lambdas = 200\n",
    "taus = 200\n",
    "taua = 200\n",
    "\n",
    "def frameDevFunction(i, j, v):\n",
    "    frameCostValue = min(math.pow(((j-i)-v),2), taus)\n",
    "    return frameCostValue\n",
    "\n",
    "def frameAccelCost(h, i, j):\n",
    "    frameaccelerationcost = min(math.pow(((j-i) - (h-i)),2), taua)\n",
    "    return frameaccelerationcost\n",
    "\n",
    "def arrayPath(frameCount, extraDiag, v):\n",
    "    \n",
    "    #v is targetted speed up; v<=extraDiag\n",
    "    print \"Loading Array\"\n",
    "    errors = np.loadtxt('array.txt')\n",
    "    print \"Array Loaded\"\n",
    "    #Add our speed up cost function\n",
    "    for i in range(0, frameCount):\n",
    "        for j in range(i+1, i+extraDiag+2):\n",
    "            if(j<frameCount and i<frameCount):\n",
    "                errors[i,j] += lambdas * frameDevFunction(i, j, v)\n",
    "    print \"Speed Up Cost Added\"\n",
    "    \n",
    "    #Array is populated now assess costs\n",
    "    costmatrix = np.zeros((frameCount, frameCount))\n",
    "    #First Pass of Populate\n",
    "    for i in range(1,frameCount):\n",
    "        for j in range(i+1, i+extraDiag+2):\n",
    "            n1 = []    \n",
    "            #Populate a new list based on the for loop\n",
    "            for k in range(i-1, i-(extraDiag+2),-1):\n",
    "                #Populate our list\n",
    "                n1.insert(k, (errors[k, i] + lambdaa*frameAccelCost(k, i, j)))\n",
    "            if(i< frameCount and j<frameCount):\n",
    "                errors[i, j]=np.min(n1)               \n",
    "                #Is this next line correct or should we not build on the prior result? Pseudo-code is ambiguous          \n",
    "                costmatrix[i, j] = i - ((extraDiag+1) - np.argmin(n1))   \n",
    "    print \"Cost Matrix Calculated\"\n",
    "                                             \n",
    "    #Second Pass Trace Back Min Cost\n",
    "    #How many frames back are we willing to go for our final frame?\n",
    "    endrange = 3\n",
    "    #Create a masked array that masks zeros in the last few rows and columns of our costmatrix\n",
    "    maskedarray = ma.masked_equal(costmatrix[(frameCount-(endrange+1)):, (frameCount-(endrange+1)):], 0)\n",
    "    #The argmin from this new masked array are then used for the s and d values, unravel and the addition\n",
    "    #Of the frame count puts them into the correct values with regards to the size of our original cost matrix\n",
    "    s= (np.unravel_index(maskedarray.argmin(), maskedarray.shape)[0]) + (frameCount-(endrange+1))\n",
    "    d= (np.unravel_index(maskedarray.argmin(), maskedarray.shape)[1]) + (frameCount-(endrange+1))\n",
    "    p = []\n",
    "    while(s>1):\n",
    "        #Prepend to List and work our way back up through the cost matrix\n",
    "        p.insert(0, s)\n",
    "        b = costmatrix[s, d]\n",
    "        d = s\n",
    "        s = b\n",
    "    np.savetxt('framelist.txt',p)\n",
    "    return p\n",
    "\n",
    "arrayPath(165, 3, 4)"
   ]
  },
  {
   "cell_type": "code",
   "execution_count": null,
   "metadata": {
    "collapsed": true
   },
   "outputs": [],
   "source": []
  }
 ],
 "metadata": {
  "kernelspec": {
   "display_name": "Python 2",
   "language": "python",
   "name": "python2"
  },
  "language_info": {
   "codemirror_mode": {
    "name": "ipython",
    "version": 2
   },
   "file_extension": ".py",
   "mimetype": "text/x-python",
   "name": "python",
   "nbconvert_exporter": "python",
   "pygments_lexer": "ipython2",
   "version": "2.7.13"
  }
 },
 "nbformat": 4,
 "nbformat_minor": 2
}
