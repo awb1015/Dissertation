{
 "cells": [
  {
   "cell_type": "code",
   "execution_count": null,
   "metadata": {
    "collapsed": true
   },
   "outputs": [],
   "source": [
    "import numpy as np\n",
    "\n",
    "#0/1 Knapsack problem\n",
    "#We have one of each item of various weight. Given a max weight of knapsack how can we maximise the ulitity value\n",
    "\n",
    "#Useful links\n",
    "#https://www.youtube.com/watch?v=8LusJS5-AGo\n",
    "#http://www.geeksforgeeks.org/dynamic-programming-set-10-0-1-knapsack-problem/\n",
    "\n",
    "\n",
    "#W is the weight capacity of the knapsack\n",
    "#wt is a list of our item's weights/masses\n",
    "#val is our list of item values\n",
    "\n",
    "def knapsack(W, wt, val):\n",
    "    #Create our table of results\n",
    "    n = len(val)\n",
    "    K =[[0 for x in range(W+1)] 0 for x in range(n+1)]\n",
    "    \n",
    "    #Now begin populating our table\n",
    "    for i in range(n+1):\n",
    "        for w in range(W+1):\n",
    "             for i in range(n+1):\n",
    "                if i==0 or w==0:\n",
    "                    K[i][w] = 0\n",
    "                elif wt[i-1] <= w:\n",
    "                    K[i][w] = max(val[i-1] + K[i-1][w-wt[i-1]],  K[i-1][w])\n",
    "                else:\n",
    "                    K[i][w] = K[i-1][w]\n",
    "    return K[n][W]\n",
    "\n",
    "\n"
   ]
  }
 ],
 "metadata": {
  "kernelspec": {
   "display_name": "Python 2",
   "language": "python",
   "name": "python2"
  },
  "language_info": {
   "codemirror_mode": {
    "name": "ipython",
    "version": 2
   },
   "file_extension": ".py",
   "mimetype": "text/x-python",
   "name": "python",
   "nbconvert_exporter": "python",
   "pygments_lexer": "ipython2",
   "version": "2.7.13"
  }
 },
 "nbformat": 4,
 "nbformat_minor": 2
}
