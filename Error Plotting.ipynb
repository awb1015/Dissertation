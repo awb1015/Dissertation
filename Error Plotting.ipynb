{
 "cells": [
  {
   "cell_type": "code",
   "execution_count": 10,
   "metadata": {
    "collapsed": false
   },
   "outputs": [
    {
     "name": "stdout",
     "output_type": "stream",
     "text": [
      "Now plotting errors\n",
      "Array saved to disk\n"
     ]
    },
    {
     "data": {
      "image/png": "[encoded data removed]",
      "text/plain": [
       "<matplotlib.figure.Figure at 0xb207c50>"
      ]
     },
     "metadata": {},
     "output_type": "display_data"
    },
    {
     "name": "stdout",
     "output_type": "stream",
     "text": [
      "Plot Saved to Disk\n"
     ]
    }
   ],
   "source": [
    "import cv2\n",
    "import numpy as np\n",
    "import matplotlib.pyplot as plt\n",
    "import similaritymetrics as ims\n",
    "\n",
    "def plotError(frameCount, extraDiag):\n",
    "    print \"Now plotting errors\"\n",
    "    #Create our array of zeros as a 2D numpy array\n",
    "    errors = np.zeros((frameCount, frameCount))\n",
    "    #Now Populate our 2 Diagonal Errors\n",
    "    #Current structure allows image1 loaded once and reused\n",
    "    for i in range(0, frameCount-1):\n",
    "        image1 = cv2.imread(\"frame%0*d.png\" %(4,i+1))\n",
    "        image2 = cv2.imread(\"frame%0*d.png\" %(4,i+2))\n",
    "        #First Diagonal is y=x+1\n",
    "        errors[i][i+1]=ims.mse(image1, image2)\n",
    "        #Second Diagonal is y=x+2\n",
    "        #This loop calls our extra diagonals for however many we specify\n",
    "        #We need to add guarding here to prevent looking for an image that extends beyond available frames\n",
    "        for j in range(0, extraDiag):\n",
    "            image2 = cv2.imread(\"frame%0*d.png\" %(4,i+3+j))\n",
    "            if():\n",
    "                continue\n",
    "            errors[i][i+2+j]=ims.mse(image1, image2)    \n",
    "    #Save our array\n",
    "    np.savetxt('array.txt', errors)\n",
    "    print \"Array saved to disk\"\n",
    "    #Now plot and we need a way to save our plot\n",
    "    plt.imshow(errors, cmap='hot', interpolation='nearest')\n",
    "    plt.show()\n",
    "    plt.savefig(\"errorplot.png\")\n",
    "    print \"Plot Saved to Disk\"\n",
    "    \n",
    "#optimum path\n",
    "def framePath():\n",
    "    #First Load Array\n",
    "    np.loadtext('array.txt', errors)\n",
    "    print 'Array Loaded'\n",
    "    #Now find our best route through it\n",
    "    #More to come\n",
    "    #https://www.codechef.com/wiki/tutorial-dynamic-programming\n",
    "\n",
    "#Main Function\n",
    "plotError(165, 0)\n"
   ]
  },
  {
   "cell_type": "code",
   "execution_count": null,
   "metadata": {
    "collapsed": true
   },
   "outputs": [],
   "source": []
  },
  {
   "cell_type": "code",
   "execution_count": null,
   "metadata": {
    "collapsed": true
   },
   "outputs": [],
   "source": []
  }
 ],
 "metadata": {
  "kernelspec": {
   "display_name": "Python 2",
   "language": "python",
   "name": "python2"
  },
  "language_info": {
   "codemirror_mode": {
    "name": "ipython",
    "version": 2
   },
   "file_extension": ".py",
   "mimetype": "text/x-python",
   "name": "python",
   "nbconvert_exporter": "python",
   "pygments_lexer": "ipython2",
   "version": "2.7.13"
  }
 },
 "nbformat": 4,
 "nbformat_minor": 2
}
