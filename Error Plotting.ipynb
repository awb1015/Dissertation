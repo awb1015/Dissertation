{
 "cells": [
  {
   "cell_type": "code",
   "execution_count": 2,
   "metadata": {
    "collapsed": false
   },
   "outputs": [
    {
     "ename": "SyntaxError",
     "evalue": "can't assign to operator (<ipython-input-2-31b5fe083d7e>, line 43)",
     "output_type": "error",
     "traceback": [
      "\u001b[0;36m  File \u001b[0;32m\"<ipython-input-2-31b5fe083d7e>\"\u001b[0;36m, line \u001b[0;32m43\u001b[0m\n\u001b[0;31m    image%d %(i+extraDiag+1) = cv2.imread(\"frame%0*d.png\" %(4,i+extraDiag+1))\u001b[0m\n\u001b[0;31mSyntaxError\u001b[0m\u001b[0;31m:\u001b[0m can't assign to operator\n"
     ]
    }
   ],
   "source": [
    "import cv2\n",
    "import numpy as np\n",
    "import matplotlib.pyplot as plt\n",
    "import similaritymetrics as ims\n",
    "\n",
    "def plotError(frameCount, extraDiag):\n",
    "    print \"Now plotting errors\"\n",
    "    #Create our array of zeros as a 2D numpy array\n",
    "    errors = np.zeros((frameCount, frameCount))\n",
    "    #Now Populate our 2 Diagonal Errors\n",
    "    #Current structure allows image1 loaded once and reused\n",
    "    for i in range(0, frameCount-1):\n",
    "        image1 = cv2.imread(\"frame%0*d.png\" %(4,i+1))\n",
    "        image2 = cv2.imread(\"frame%0*d.png\" %(4,i+2))\n",
    "        #First Diagonal is y=x+1\n",
    "        errors[i, i+1]=ims.mse(image1, image2)\n",
    "        #Second Diagonal is y=x+2\n",
    "        #This loop calls our extra diagonals for however many we specify\n",
    "        #We need to add guarding here to prevent looking for an image that extends beyond available frames\n",
    "        for j in range(0, extraDiag):\n",
    "            image2 = cv2.imread(\"frame%0*d.png\" %(4,i+3+j))\n",
    "            #null pointer type exception\n",
    "            if(image2 is None):\n",
    "                continue\n",
    "            errors[i, i+2+j]=ims.mse(image1, image2)    \n",
    "    #Save our array\n",
    "    np.savetxt('array.txt', errors)\n",
    "    print \"Array saved to disk\"\n",
    "    #Now plot and we need a way to save our plot\n",
    "    plt.imshow(errors, cmap='hot', interpolation='nearest')\n",
    "    plt.show()\n",
    "    plt.savefig(\"errorplot.png\")\n",
    "    print \"Plot Saved to Disk\"\n",
    "    \n",
    "def plotErrorDict(frameCount, extraDiag):\n",
    "    print \"Now Plotting Errors\"\n",
    "    errors = np.zeros((frameCount, frameCount))\n",
    "    #Create Dictionary with initial items\n",
    "    imagedict = {}\n",
    "    for i in range(1, frameCount):\n",
    "        #Add Entries to Dictionary, only add a single entry when i>1\n",
    "        if(i>1):\n",
    "            image%d %(i+extraDiag+1) = cv2.imread(\"frame%0*d.png\" %(4,i+extraDiag+1))\n",
    "            imagedict[i+extraDiag+1] = (\"image%d\" %(i+extraDiag+1))      \n",
    "        else:\n",
    "            for j in range(i, extraDiag+3):   \n",
    "                image%d %(j) = cv2.imread(\"frame%0*d.png\" %(4,j))\n",
    "                imagedict[j] = (\"image%d\" %(j))\n",
    "        #Then Compare\n",
    "        for k in range(i+1, i+extraDiag+2):\n",
    "            if(image%k is None):\n",
    "                continue\n",
    "            errors[i,k] = ims.mse(imagedict.get(i),imagedict.get(k))\n",
    "        #Then delete as needed, we'll delete the earliest created entry\n",
    "        del imagedict[i]\n",
    "    np.savetxt('array.txt', errors)\n",
    "    print \"Array saved to disk\"\n",
    "    #Now plot and we need a way to save our plot\n",
    "    plt.imshow(errors, cmap='hot', interpolation='nearest')\n",
    "    plt.show()\n",
    "    plt.savefig(\"errorplot.png\")\n",
    "    print \"Plot Saved to Disk\"\n",
    "    \n",
    "    \n",
    "#optimum path\n",
    "def framePath():\n",
    "    #First Load Array\n",
    "    np.loadtext('array.txt', errors)\n",
    "    print 'Array Loaded'\n",
    "    #Now find our best route through it\n",
    "    #More to come\n",
    "    #https://www.codechef.com/wiki/tutorial-dynamic-programming\n",
    "\n",
    "#Main Function\n",
    "plotError(165, 6)\n"
   ]
  },
  {
   "cell_type": "code",
   "execution_count": null,
   "metadata": {
    "collapsed": true
   },
   "outputs": [],
   "source": []
  },
  {
   "cell_type": "code",
   "execution_count": null,
   "metadata": {
    "collapsed": true
   },
   "outputs": [],
   "source": []
  }
 ],
 "metadata": {
  "kernelspec": {
   "display_name": "Python 2",
   "language": "python",
   "name": "python2"
  },
  "language_info": {
   "codemirror_mode": {
    "name": "ipython",
    "version": 2
   },
   "file_extension": ".py",
   "mimetype": "text/x-python",
   "name": "python",
   "nbconvert_exporter": "python",
   "pygments_lexer": "ipython2",
   "version": "2.7.13"
  }
 },
 "nbformat": 4,
 "nbformat_minor": 2
}
