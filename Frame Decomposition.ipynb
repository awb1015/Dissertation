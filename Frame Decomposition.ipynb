{
 "cells": [
  {
   "cell_type": "code",
   "execution_count": 1,
   "metadata": {
    "collapsed": false
   },
   "outputs": [],
   "source": [
    "#This is a simple file to attempt to decompose a video into jpegs of frames\n",
    "import cv2\n",
    "import numpy as np\n",
    "\n",
    "#Save our frames as jpegs\n",
    "vidcap = cv2.VideoCapture('small.mp4')\n",
    "success,image = vidcap.read()\n",
    "count = 1\n",
    "while success:\n",
    "    success,image = vidcap.read()\n",
    "    cv2.imwrite(\"frame%d.jpeg\" % count, image)\n",
    "    count +=1\n",
    "\n",
    "#Now work our way back through the images and save the resulting MSE to an array\n",
    "differenceCount = 1\n",
    "while differenceCount < count:\n",
    "    #open two images\n",
    "    image1 = cv2.imread(\"frame%d.jpeg\" %differenceCount)\n",
    "    image2 = cv2.imread(\"frame%d.jpeg\" %(differenceCount+1) \n",
    "    #call mse\n",
    "    imageDiff = mse(image1, image2)\n",
    "    #store result in array\n",
    "    \n",
    "    #repeat\n",
    "    differenceCount +=2\n",
    "\n",
    "def mse (image1, image2):\n",
    "    error = np.sum((image1.astype('float') - image2.astype('float'))**2)\n",
    "    #We assume there are the same number of pixels in the images\n",
    "    error = error/float(image1.shape[0]*image1.shape[1])\n",
    "    return error\n",
    "\n",
    "def frameRemake():\n",
    "    #We pass in our array and another parameter regarding total frames or frames to be selected\n",
    "    #Use the array to select which frames we'll put back together\n",
    "    \n",
    "\n",
    "\n"
   ]
  },
  {
   "cell_type": "code",
   "execution_count": null,
   "metadata": {
    "collapsed": true
   },
   "outputs": [],
   "source": []
  }
 ],
 "metadata": {
  "kernelspec": {
   "display_name": "Python 2",
   "language": "python",
   "name": "python2"
  },
  "language_info": {
   "codemirror_mode": {
    "name": "ipython",
    "version": 2
   },
   "file_extension": ".py",
   "mimetype": "text/x-python",
   "name": "python",
   "nbconvert_exporter": "python",
   "pygments_lexer": "ipython2",
   "version": "2.7.13"
  }
 },
 "nbformat": 4,
 "nbformat_minor": 2
}
