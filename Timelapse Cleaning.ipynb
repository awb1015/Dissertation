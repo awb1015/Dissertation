{
 "cells": [
  {
   "cell_type": "code",
   "execution_count": null,
   "metadata": {
    "collapsed": false
   },
   "outputs": [],
   "source": [
    "from shutil import copyfile\n",
    "import os\n",
    "import cv2\n",
    "\n",
    "\n",
    "#This method only works if all frames are equally spaced, and all assumed frames are captured\n",
    "#Unfortunately this appears to be rare\n",
    "def equispacedClean():\n",
    "    lengthOfKeepFrames = 202\n",
    "    lengthOfFramesSkip = 78\n",
    "    frameWriten = 0\n",
    "    frameCount = 8222   \n",
    "    for j in range(1, frameCount, (lengthOfKeepFrames+lengthOfFramesSkip+1)):\n",
    "        for i in range(1+j-1, (lengthOfKeepFrames+1)+j-1):\n",
    "            if(i<=frameCount):\n",
    "                copyfile('C:\\\\Users\\\\Alex\\\\Desktop\\\\Camera9112-neuss\\\\image%0*d.jpg' %(4, i), 'C:\\\\Users\\\\Alex\\Documents\\\\Dissertation\\\\cleanedTimeLapseFrame\\\\image%0*d.jpg' %(4, frameWriten))\n",
    "                frameWriten+=1\n",
    "\n",
    "def brightnessClean(frameCount)\n",
    "    #We'll isolate an area of the images that is dark in night images and dependably bright during day images\n",
    "    frameWriten = 0\n",
    "    for i in range(0, frameCount):\n",
    "        image = cv2.imread('C:\\\\Users\\\\Alex\\\\Desktop\\\\Camera9112-neuss\\\\image%0*d.jpg' %(4, i))\n",
    "        #Now crop adjust section of image we examine\n",
    "        cropimage = image[0:10, 570:593]\n",
    "        #check brightness/darkness\n",
    "        if():\n",
    "            copyfile('C:\\\\Users\\\\Alex\\\\Desktop\\\\Camera9112-neuss\\\\image%0*d.jpg' %(4, i), 'C:\\\\Users\\\\Alex\\Documents\\\\Dissertation\\\\cleanedTimeLapseFrame\\\\image%0*d.jpg' %(4, frameWriten))\n",
    "            frameWriten+=1\n",
    "            \n",
    "            \n",
    "def OCRClean():\n",
    "    frameWriten = 0\n",
    "    #Just attempt to print time stamp\n",
    "    image = cv2.imread('C:\\\\Users\\\\Alex\\\\Desktop\\\\Camera9112-neuss\\\\image0059.jpg')\n",
    "    #Now crop image\n",
    "    cropimage = image[0:10, 570:593]\n",
    "    cv2.imwrite('C:\\\\Users\\\\Alex\\\\Desktop\\\\Camera9112-neuss\\\\image0059_crop.png', cropimage)\n",
    "    #Need to create a set of test images for learning\n",
    "    #if():\n",
    "        #then copy and rename\n",
    "        #frameWriten +=1\n",
    "    \n",
    "\n",
    "def cleanFileNames():\n",
    "    os.chdir('C:\\\\Users\\\\Alex\\\\Desktop\\\\Camera9112-neuss')\n",
    "    for i in range(1, frameCount+1):\n",
    "        os.rename('image (%d).jpg' %i, 'image%0*d.jpg' %(4, i-1))\n",
    "    #restore directory\n",
    "    os.chdir('C:\\\\Users\\\\Alex\\\\Documents\\\\Dissertation\\\\')\n",
    "        \n",
    "#Now down here what do we want to do\n",
    "equispacedClean()"
   ]
  },
  {
   "cell_type": "code",
   "execution_count": null,
   "metadata": {
    "collapsed": true
   },
   "outputs": [],
   "source": []
  }
 ],
 "metadata": {
  "kernelspec": {
   "display_name": "Python 2",
   "language": "python",
   "name": "python2"
  },
  "language_info": {
   "codemirror_mode": {
    "name": "ipython",
    "version": 2
   },
   "file_extension": ".py",
   "mimetype": "text/x-python",
   "name": "python",
   "nbconvert_exporter": "python",
   "pygments_lexer": "ipython2",
   "version": "2.7.13"
  }
 },
 "nbformat": 4,
 "nbformat_minor": 2
}
