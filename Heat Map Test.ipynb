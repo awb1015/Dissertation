{
 "cells": [
  {
   "cell_type": "code",
   "execution_count": 9,
   "metadata": {
    "collapsed": false
   },
   "outputs": [
    {
     "data": {
      "image/png": "[encoded data removed]",
      "text/plain": [
       "<matplotlib.figure.Figure at 0x8450828>"
      ]
     },
     "metadata": {},
     "output_type": "display_data"
    }
   ],
   "source": [
    "import cv2\n",
    "import numpy as np\n",
    "import matplotlib.pyplot as plt\n",
    "\n",
    "#null pointer style test\n",
    "image2 = cv2.imread(\"frame%0*d.png\" %(4,160))\n",
    "if(image2 is None):\n",
    "    print \"No image found\"\n",
    "\n",
    "def coinchange(valueneeded, coinvalues):\n",
    "    mincoins = [[0 for j in range(valueneeded+1)] for i in range(len(coinvalues))]\n",
    "    \n",
    "#plotting test\n",
    "errors = np.zeros((2, 2))\n",
    "errors[0][0] = 3\n",
    "errors[1][0] = 1\n",
    "errors[1][1] = 3\n",
    "plt.imshow(errors, cmap='hot', interpolation='nearest')\n",
    "plt.show()\n"
   ]
  },
  {
   "cell_type": "code",
   "execution_count": null,
   "metadata": {
    "collapsed": true
   },
   "outputs": [],
   "source": []
  }
 ],
 "metadata": {
  "kernelspec": {
   "display_name": "Python 2",
   "language": "python",
   "name": "python2"
  }
 },
 "nbformat": 4,
 "nbformat_minor": 2
}
