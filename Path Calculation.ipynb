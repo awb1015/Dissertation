{
 "cells": [
  {
   "cell_type": "code",
   "execution_count": 4,
   "metadata": {
    "collapsed": false
   },
   "outputs": [
    {
     "name": "stdout",
     "output_type": "stream",
     "text": [
      "Loading Array\n",
      "Array Loaded\n",
      "Start Gap Initialised\n",
      "Cost Matrix Calculated\n",
      "Frame Path Saved\n"
     ]
    }
   ],
   "source": [
    "import numpy as np\n",
    "import numpy.ma as ma\n",
    "import math\n",
    "\n",
    "lambdaa = 80\n",
    "lambdas = 200\n",
    "taus = 200\n",
    "taua = 200\n",
    "\n",
    "def frameDevFunction(i, j, v):\n",
    "    frameCostValue = min(math.pow(((j-i)-v),2), taus)\n",
    "    return frameCostValue\n",
    "\n",
    "def frameAccelCost(h, i, j):\n",
    "    frameaccelerationcost = min(math.pow(((j-i) - (i-h)),2), taua)\n",
    "    return frameaccelerationcost\n",
    "\n",
    "def arrayPath(v):\n",
    "    #v is targetted speed up; v<=extraDiag\n",
    "    print \"Loading Array\"\n",
    "    errors = np.loadtxt('swiss_dssim.txt')\n",
    "    print \"Array Loaded\"\n",
    "    frameCount = errors.shape[0]\n",
    "    # extraDiag = create a mask of the top row and measure the length\n",
    "    diagmaskedarray = ma.masked_equal(errors[0,:],0)\n",
    "    extraDiag = int(diagmaskedarray.count()) -1\n",
    "    #Add our speed up cost function\n",
    "    startrange = 2\n",
    "    for i in range(0, startrange):\n",
    "        for j in range(i+1, i+extraDiag+2):\n",
    "            if(j<frameCount and i<frameCount):\n",
    "                errors[i,j] += lambdas * frameDevFunction(i, j, v)\n",
    "    print \"Start Gap Initialised\"\n",
    "    \n",
    "    #Array is populated now assess costs\n",
    "    costmatrix = np.zeros((frameCount, frameCount))\n",
    "    #First Pass of Populate\n",
    "    for i in range(startrange,frameCount):\n",
    "        for j in range(i+1, i+extraDiag+2):\n",
    "            if(j>=frameCount):\n",
    "                continue\n",
    "            Const = errors[i,j] + lambdas*frameDevFunction(i, j, v)\n",
    "            n1 = []    \n",
    "            #Populate a new list based on the for loop\n",
    "            for k in range(1, extraDiag+2):\n",
    "                #Populate our list\n",
    "                n1.insert(k, (errors[(i-k), i] + lambdaa*frameAccelCost((i-k), i, j)))\n",
    "            if(i< frameCount and j<frameCount):\n",
    "                errors[i, j]= Const +  np.min(n1)            \n",
    "                costmatrix[i, j] = i - (np.argmin(n1)+1)\n",
    "                #Ensure that the line above is correct when we convert the index from n1\n",
    "    print \"Cost Matrix Calculated\"\n",
    "                                             \n",
    "    #Second Pass Trace Back Min Cost\n",
    "    #How many frames back are we willing to go for our final frame?\n",
    "    endrange = 2\n",
    "    #Create a masked array that masks zeros in the last few rows and columns of our costmatrix\n",
    "    maskedarray = ma.masked_equal(costmatrix[(frameCount-(endrange+1)):, (frameCount-(endrange+1)):], 0)\n",
    "    #The argmin from this new masked array are then used for the s and d values, unravel and the addition\n",
    "    #Of the frame count puts them into the correct values with regards to the size of our original cost matrix\n",
    "    s= int((np.unravel_index(maskedarray.argmin(), maskedarray.shape)[0]) + (frameCount-(endrange+1)))\n",
    "    d= int((np.unravel_index(maskedarray.argmin(), maskedarray.shape)[1]) + (frameCount-(endrange+1)))\n",
    "    p = []\n",
    "    while(s>startrange):\n",
    "        #Prepend to List and work our way back up through the cost matrix\n",
    "        p.insert(0, int(s))\n",
    "        b = costmatrix[s, d]\n",
    "        d = int(s)\n",
    "        s = int(b)\n",
    "    np.savetxt('framelist_swiss_dssim_5x_80_200_200_200.txt',p)\n",
    "    print \"Frame Path Saved\"\n",
    "\n",
    "arrayPath(5)\n"
   ]
  },
  {
   "cell_type": "code",
   "execution_count": null,
   "metadata": {
    "collapsed": true
   },
   "outputs": [],
   "source": []
  },
  {
   "cell_type": "code",
   "execution_count": null,
   "metadata": {
    "collapsed": true
   },
   "outputs": [],
   "source": []
  }
 ],
 "metadata": {
  "kernelspec": {
   "display_name": "Python 2",
   "language": "python",
   "name": "python2"
  },
  "language_info": {
   "codemirror_mode": {
    "name": "ipython",
    "version": 2
   },
   "file_extension": ".py",
   "mimetype": "text/x-python",
   "name": "python",
   "nbconvert_exporter": "python",
   "pygments_lexer": "ipython2",
   "version": "2.7.13"
  }
 },
 "nbformat": 4,
 "nbformat_minor": 2
}
