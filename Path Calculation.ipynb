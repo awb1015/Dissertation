{
 "cells": [
  {
   "cell_type": "code",
   "execution_count": 22,
   "metadata": {
    "collapsed": false
   },
   "outputs": [
    {
     "name": "stdout",
     "output_type": "stream",
     "text": [
      "Loading Array\n",
      "Array Loaded\n",
      "Speed Up Cost Added\n",
      "Cost Matrix Calculated\n",
      "[157.0, 158.0, 159.0, 157.0, 158.0, 157.0]\n",
      "0\n"
     ]
    },
    {
     "name": "stderr",
     "output_type": "stream",
     "text": [
      "C:\\ProgramData\\Anaconda2\\lib\\site-packages\\ipykernel\\__main__.py:64: VisibleDeprecationWarning: using a non-integer number instead of an integer will result in an error in the future\n"
     ]
    },
    {
     "data": {
      "text/plain": [
       "[2.0,\n",
       " 6.0,\n",
       " 10.0,\n",
       " 14.0,\n",
       " 18.0,\n",
       " 22.0,\n",
       " 26.0,\n",
       " 30.0,\n",
       " 34.0,\n",
       " 38.0,\n",
       " 42.0,\n",
       " 46.0,\n",
       " 50.0,\n",
       " 54.0,\n",
       " 58.0,\n",
       " 62.0,\n",
       " 66.0,\n",
       " 70.0,\n",
       " 74.0,\n",
       " 78.0,\n",
       " 82.0,\n",
       " 86.0,\n",
       " 90.0,\n",
       " 94.0,\n",
       " 98.0,\n",
       " 102.0,\n",
       " 106.0,\n",
       " 110.0,\n",
       " 114.0,\n",
       " 118.0,\n",
       " 122.0,\n",
       " 126.0,\n",
       " 130.0,\n",
       " 134.0,\n",
       " 138.0,\n",
       " 142.0,\n",
       " 146.0,\n",
       " 150]"
      ]
     },
     "execution_count": 22,
     "metadata": {},
     "output_type": "execute_result"
    }
   ],
   "source": [
    "import numpy as np\n",
    "import math\n",
    "import datetime\n",
    "\n",
    "lambdaa = 80\n",
    "lambdas = 200\n",
    "taus = 200\n",
    "taua = 200\n",
    "\n",
    "def frameDevFunction(i, j, v):\n",
    "    frameCostValue = min(math.pow(((j-i)-v),2), taus)\n",
    "    return frameCostValue\n",
    "\n",
    "def frameAccelCost(h, i, j):\n",
    "    frameaccelerationcost = min(math.pow(((j-i) - (h-i)),2), taua)\n",
    "    return frameaccelerationcost\n",
    "\n",
    "def arrayPath(frameCount, extraDiag, v):\n",
    "    \n",
    "    #v is targetted speed up; v<=extraDiag\n",
    "    print \"Loading Array\"\n",
    "    errors = np.loadtxt('array.txt')\n",
    "    print \"Array Loaded\"\n",
    "    #Add our speed up cost function\n",
    "    for i in range(0, frameCount):\n",
    "        for j in range(i+1, i+extraDiag+2):\n",
    "            if(j<frameCount and i<frameCount):\n",
    "                errors[i,j] += lambdas * frameDevFunction(i, j, v)\n",
    "    print \"Speed Up Cost Added\"\n",
    "    \n",
    "    #Array is populated now assess costs\n",
    "    costmatrix = np.zeros((frameCount, frameCount))\n",
    "    #First Pass of Populate\n",
    "    for i in range(1,frameCount):\n",
    "        for j in range(i+1, i+extraDiag+2):\n",
    "            n1 = []    \n",
    "            #Populate a new list based on the for loop\n",
    "            for k in range(i-1, i-(extraDiag+2),-1):\n",
    "                #Populate our list\n",
    "                n1.insert(k, (errors[k, i] + lambdaa*frameAccelCost(k, i, j)))\n",
    "            if(i< frameCount and j<frameCount):\n",
    "                errors[i, j]=np.min(n1)               \n",
    "                #Is this next line correct or should we not build on the prior result? Pseudo-code is ambiguous          \n",
    "                costmatrix[i, j] = i - ((extraDiag+1) - np.argmin(n1))   \n",
    "    print \"Cost Matrix Calculated\"\n",
    "                         \n",
    "                         \n",
    "    #Second Pass Trace Back Min Cost\n",
    "    #Multi-dimensional argmin to set initial values of s and d (basically the min value in the last few rows we can select)\n",
    "    #Grab last few entries of diagonals\n",
    "    #Then find minimum, translate back to the indices in our costmatrix\n",
    "    lastframevalues = []\n",
    "    endrange = 3\n",
    "    for i in range(1, endrange+1):\n",
    "        lastframevalues.extend(np.diagonal(costmatrix, i, 0, 1)[-(endrange-(i-1)):])\n",
    "    print lastframevalues\n",
    "    print np.argmin(lastframevalues)\n",
    "    s= \n",
    "    d= \n",
    "    p = []\n",
    "    while(s>1):\n",
    "        #Prepend to List and work our way back up through the cost matrix\n",
    "        p.insert(0, s)\n",
    "        b = costmatrix[s, d]\n",
    "        d = s\n",
    "        s = b\n",
    "    np.savetxt('framelist.txt',p)\n",
    "    return p\n",
    "\n",
    "arrayPath(165, 3, 4)"
   ]
  },
  {
   "cell_type": "code",
   "execution_count": null,
   "metadata": {
    "collapsed": true
   },
   "outputs": [],
   "source": []
  }
 ],
 "metadata": {
  "kernelspec": {
   "display_name": "Python 2",
   "language": "python",
   "name": "python2"
  },
  "language_info": {
   "codemirror_mode": {
    "name": "ipython",
    "version": 2
   },
   "file_extension": ".py",
   "mimetype": "text/x-python",
   "name": "python",
   "nbconvert_exporter": "python",
   "pygments_lexer": "ipython2",
   "version": "2.7.13"
  }
 },
 "nbformat": 4,
 "nbformat_minor": 2
}
