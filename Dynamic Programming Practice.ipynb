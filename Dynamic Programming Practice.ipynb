{
 "cells": [
  {
   "cell_type": "code",
   "execution_count": 8,
   "metadata": {
    "collapsed": false
   },
   "outputs": [
    {
     "name": "stdout",
     "output_type": "stream",
     "text": [
      "This is our error array\n",
      "[[  0.   3.  25.   0.   0.   0.   0.]\n",
      " [  0.   0.  32.  37.   0.   0.   0.]\n",
      " [  0.   0.   0.  13.  29.   0.   0.]\n",
      " [  0.   0.   0.   0.   7.  15.   0.]\n",
      " [  0.   0.   0.   0.   0.  15.  20.]\n",
      " [  0.   0.   0.   0.   0.   0.   0.]\n",
      " [  0.   0.   0.   0.   0.   0.   0.]]\n",
      "This is the re-evaluted error array\n",
      "[[  0.   3.  25.   0.   0.   0.   0.]\n",
      " [  0.   0.  32.  37.   0.   0.   0.]\n",
      " [  0.   0.   0.  13.  29.   0.   0.]\n",
      " [  0.   0.   0.   0.   7.  15.   0.]\n",
      " [  0.   0.   0.   0.   0.  15.  20.]\n",
      " [  0.   0.   0.   0.   0.   0.   0.]\n",
      " [  0.   0.   0.   0.   0.   0.   0.]]\n",
      "This is our resulting cost matrix\n",
      "[[ 0.  0.  0.  0.  0.  0.  0.]\n",
      " [ 0.  0.  0.  0.  0.  0.  0.]\n",
      " [ 0.  0.  0.  0.  0.  0.  0.]\n",
      " [ 0.  0.  0.  0.  0.  0.  0.]\n",
      " [ 0.  0.  0.  0.  0.  0.  0.]\n",
      " [ 0.  0.  0.  0.  0.  0.  0.]\n",
      " [ 0.  0.  0.  0.  0.  0.  0.]]\n",
      "These are our desired frames\n",
      "[]\n"
     ]
    },
    {
     "data": {
      "text/plain": [
       "[]"
      ]
     },
     "execution_count": 8,
     "metadata": {},
     "output_type": "execute_result"
    }
   ],
   "source": [
    "import numpy as np\n",
    "import random as random\n",
    "\n",
    "#0/1 Knapsack problem\n",
    "#We have one of each item of various weight. Given a max weight of knapsack how can we maximise the ulitity value\n",
    "\n",
    "#Useful links\n",
    "#https://www.youtube.com/watch?v=8LusJS5-AGo\n",
    "#http://www.geeksforgeeks.org/dynamic-programming-set-10-0-1-knapsack-problem/\n",
    "\n",
    "\n",
    "#W is the weight capacity of the knapsack\n",
    "#wt is a list of our item's weights/masses\n",
    "#val is our list of item values\n",
    "\n",
    "#def knapsack(W, wt, val):\n",
    "    #Create our table of results\n",
    "#    n = len(val)\n",
    "#   K =[[0 for x in range(W+1)] 0 for x in range(n+1)]\n",
    "    \n",
    "    #Now begin populating our table\n",
    "#    for i in range(n+1):\n",
    "#        for w in range(W+1):\n",
    "#             for i in range(n+1):\n",
    "#                if i==0 or w==0:\n",
    "#                    K[i][w] = 0\n",
    "#                elif wt[i-1] <= w:\n",
    "#                    K[i][w] = max(val[i-1] + K[i-1][w-wt[i-1]],  K[i-1][w])\n",
    "#                else:\n",
    "#                    K[i][w] = K[i-1][w]\n",
    "#   return K[n][W]\n",
    "\n",
    "#Make this now work around max values as we have a zero array    \n",
    "def arrayPath(frameCount, extraDiag):\n",
    "    errors = np.zeros((7,7))\n",
    "    for i in range(0,5):\n",
    "        errors[i,i+1]=random.randint(2,40)\n",
    "        if(i+2>7):\n",
    "            continue\n",
    "        errors[i,i+2]=random.randint(2,40)\n",
    "    print \"This is our error array\"\n",
    "    print errors\n",
    "    #Array is populated now assess costs\n",
    "    costmatrix = np.zeros((7, 7))\n",
    "    #First Pass of Populate \n",
    "    for i in range(0,frameCount):\n",
    "        for j in range(i+1, i+extraDiag+2):\n",
    "            minvalue = 0\n",
    "            minindex = 0\n",
    "            #THIS MIN FINDING NEEDS WORK\n",
    "            for k in range(1, extraDiag+2):\n",
    "                if(errors[i-k, i]< minvalue):\n",
    "                    minvalue = errors[i-k, i]\n",
    "                    #Double check that this next line is indeed the correct index\n",
    "                    minindex = i-k\n",
    "            #Why is this term a += and not just an =?\n",
    "            errors[i, j]+= minvalue\n",
    "            #There is an OFF BY ONE error here\n",
    "            costmatrix [i, j] = minindex\n",
    "            #Need a way to rezero the max index and max value\n",
    "    print \"This is the re-evaluted error array\"\n",
    "    print errors\n",
    "    print \"This is our resulting cost matrix\"\n",
    "    print costmatrix\n",
    "    #Second Pass Trace Back Min Cost\n",
    "    #Multi-dimensional argmin to set initial values of s and d\n",
    "    s = 5\n",
    "    d = 4\n",
    "    p = []\n",
    "    while(s>frameCount):\n",
    "        #Prepend to List and work our way back up through the cost matrix\n",
    "        p.insert(0, s)\n",
    "        b = costmatrix[s, d]\n",
    "        d = s\n",
    "        s = b\n",
    "    print \"These are our desired frames\"\n",
    "    print p\n",
    "    return p\n",
    "\n",
    "arrayPath(5, 0)\n"
   ]
  },
  {
   "cell_type": "code",
   "execution_count": null,
   "metadata": {
    "collapsed": true
   },
   "outputs": [],
   "source": []
  }
 ],
 "metadata": {
  "kernelspec": {
   "display_name": "Python 2",
   "language": "python",
   "name": "python2"
  },
  "language_info": {
   "codemirror_mode": {
    "name": "ipython",
    "version": 2
   },
   "file_extension": ".py",
   "mimetype": "text/x-python",
   "name": "python",
   "nbconvert_exporter": "python",
   "pygments_lexer": "ipython2",
   "version": "2.7.13"
  }
 },
 "nbformat": 4,
 "nbformat_minor": 2
}
