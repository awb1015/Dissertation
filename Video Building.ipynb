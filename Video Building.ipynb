{
 "cells": [
  {
   "cell_type": "code",
   "execution_count": 56,
   "metadata": {
    "collapsed": false,
    "scrolled": false
   },
   "outputs": [
    {
     "name": "stdout",
     "output_type": "stream",
     "text": [
      "Loading Frame List\n",
      "Copying Images\n",
      "Images copied, now writing video with FFMPEG\n",
      "Video Writen\n"
     ]
    }
   ],
   "source": [
    "import numpy as np\n",
    "import cv2\n",
    "import os\n",
    "from shutil import copy2\n",
    "\n",
    "def VideoBuild():\n",
    "    print \"Loading Frame List\"\n",
    "    frameList = np.loadtxt('framelist.txt')\n",
    "    sampleimageshape = cv2.imread(\"frame%0*d.png\" %(4, frameList[0]))\n",
    "    height, width, layers = sampleimageshape.shape\n",
    "    video = cv2.VideoWriter('output.avi', 0, 24.0, (width, height))\n",
    "    for i in range (0, len(frameList)):\n",
    "        video.write(cv2.imread(\"frame%0*d.png\" %(4, frameList[i])))\n",
    "    print \"All Frames Added\"\n",
    "    video.release()\n",
    "    print \"Video released\"\n",
    "    cv2.destroyAllWindows()\n",
    "    print \"All Windows Destroyed\"\n",
    "    \n",
    "def VideoBuildFFMPEG():\n",
    "    print \"Loading Frame List\"\n",
    "    frameList = np.loadtxt('framelist.txt')\n",
    "    #Now create new directory and copy images to this location\n",
    "    if not os.path.exists('C:/Users/Alex/Documents/Dissertation/imagesforFFMPEG'):\n",
    "        os.makedirs('C:/Users/Alex/Documents/Dissertation/imagesforFFMPEG')\n",
    "    #Copy our desired images to new location and rename sequentially\n",
    "    print \"Copying Images\"\n",
    "    for i in range (0, len(frameList)):\n",
    "        copyfile('C:\\\\Users\\\\Alex\\\\Documents\\\\Dissertation\\\\frame%0*d.png' %(4, frameList[i]), 'C:\\\\Users\\\\Alex\\Documents\\\\Dissertation\\\\imagesforFFMPEG\\\\image%0*d.png' %(4, i))\n",
    "    #Now read these new files with FFMPEG and create a video\n",
    "    print \"Images copied, now writing video with FFMPEG\"\n",
    "    sampleimageshape = cv2.imread('C:/Users/Alex/Documents/Dissertation/imagesforFFMPEG/image0000.png')\n",
    "    height, width, layers = sampleimageshape.shape\n",
    "    #Concatenate two strings after formating for image size and width, this prevents an error with the image count in str2\n",
    "    #Hardcoded fps for now, we can use this as a parameter in the future\n",
    "    fps = 30\n",
    "    str1 = 'ffmpeg.exe -r %d -f image2 -s %dx%d ' %(fps, width, height)\n",
    "    str2 = '-i image%04d.png -vcodec libx264 -crf 25  -pix_fmt yuv420p test.mp4'\n",
    "    cmd = str1 + str2\n",
    "    #Now a hacky directory change to get everything to play nice\n",
    "    os.chdir('C:\\\\Users\\\\Alex\\\\Documents\\\\Dissertation\\\\imagesforFFMPEG')\n",
    "    os.system(cmd)\n",
    "    os.chdir('C:\\\\Users\\\\Alex\\\\Documents\\\\Dissertation\\\\')\n",
    "    print \"Video Writen\"\n",
    "    \n",
    "#VideoBuild()        \n",
    "VideoBuildFFMPEG()   "
   ]
  },
  {
   "cell_type": "code",
   "execution_count": null,
   "metadata": {
    "collapsed": true
   },
   "outputs": [],
   "source": []
  },
  {
   "cell_type": "code",
   "execution_count": null,
   "metadata": {
    "collapsed": true
   },
   "outputs": [],
   "source": []
  }
 ],
 "metadata": {
  "kernelspec": {
   "display_name": "Python 2",
   "language": "python",
   "name": "python2"
  },
  "language_info": {
   "codemirror_mode": {
    "name": "ipython",
    "version": 2
   },
   "file_extension": ".py",
   "mimetype": "text/x-python",
   "name": "python",
   "nbconvert_exporter": "python",
   "pygments_lexer": "ipython2",
   "version": "2.7.13"
  }
 },
 "nbformat": 4,
 "nbformat_minor": 2
}
