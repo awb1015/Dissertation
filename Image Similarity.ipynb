{
 "cells": [
  {
   "cell_type": "code",
   "execution_count": null,
   "metadata": {
    "collapsed": false
   },
   "outputs": [],
   "source": [
    "import cv2\n",
    "import numpy as np\n",
    "import matplotlib.pyplot as plt\n",
    "import similaritymetrics as ims\n",
    "\n",
    "def frameTargetRebuild(frameCount, naiveTarget, naiveDeviation):\n",
    "    #Rebuild Video Based on Specified Deviation from Naive Time Lapse\n",
    "    print \"Now Building Video\"\n",
    "    if((naiveDeviation > naiveTarget) or (naiveTarget>frameCount)):\n",
    "        print\"Allowable deviation must be less than the target\"\n",
    "        return\n",
    "    sampleimageshape = cv2.imread('frame0001.png')\n",
    "    height, width, layers = sampleimageshape.shape\n",
    "    video = cv2.VideoWriter('newMSE.avi', 0, 30.0, (width, height))\n",
    "    video.write(cv2.imread('frame0001.png'))\n",
    "    oldFrameNum  = 1\n",
    "    #Need a Target, Start with first frame find closest within deviation from naive\n",
    "    for j in range (naiveTarget, frameCount, naiveTarget):\n",
    "        #First iteration we compare against frame1 otherwise we use the last image writen\n",
    "        image1 = cv2.imread(\"frame%0*d.png\" %(4,oldFrameNum))\n",
    "        frameDiffList = [None] * (naiveDeviation*2 +1)\n",
    "        for i in range (0, naiveDeviation*2 +1): \n",
    "            #Create an array of the differences between last frame and all possible second images\n",
    "            image2 = cv2.imread(\"frame%0*d.png\" %(4,j-naiveDeviation+i))\n",
    "            imageDiff=ims.dssimCompare(image1, image2)\n",
    "            frameDiffList[i] = imageDiff\n",
    "        #Find min value in array, get corresponding image and  add to video then save image writen as image1 for next loop\n",
    "        #This will need to be either a min or max depending on the algorithm we use to compare between images\n",
    "        #Something like a function pointer here would help\n",
    "        indexOfMin = np.argmin(frameDiffList)\n",
    "        video.write(cv2.imread(\"frame%0*d.png\" %(4, j-naiveDeviation+indexOfMin)))\n",
    "        oldFrameNum = j - naiveDeviation + indexOfMin\n",
    "    print \"All frames writen\"\n",
    "    video.release()\n",
    "    print \"Video released\"\n",
    "    cv2.destroyAllWindows()\n",
    "    print \"All Windows Destroyed\"\n",
    "\n",
    "\n",
    "#def movingWindowRebuild(frameCount, frameDeviation):\n",
    "    #Start with our first frame, then select subsequent frames based on an allowable deviation.\n",
    "    #Without a target frame and range the solution can further deviate from the naive\n",
    "    #This could in theory return the original video\n",
    "#    sampleimageshape = cv2.imread('frame0001.png')\n",
    "#   height, width, layers = sampleimageshape.shape\n",
    "#    video = cv2.VideoWriter('newMSE.avi', 0, 30.0, (width, height))\n",
    "#    video.write(cv2.imread('frame0001.png'))\n",
    "#    oldFrameNum  = 1\n",
    "    #Now in here we have some kind of loop\n",
    "#    while (oldFrameNum + frameDeviation < frameCount):\n",
    "#        image1 = cv2.imread(\"frame%0*d.png\" %(4,oldFrameNum))\n",
    "#        frameDiffList = [None] * (frameDeviation)\n",
    "#        for i in range(0, frameDeviation):\n",
    "#            image2 = cv2.imread(\"frame%0*d.png\" %(4,oldFrameNum+i+1))\n",
    "            #Currently Using MSE and therefore min from array\n",
    "#            imageDiff = mse(image1, image2)\n",
    "#            frameDiffList[i] = imageDiff\n",
    "#        indexOfMin = np.argmin(frameDiffList)\n",
    "#        video.write(cv2.imread(\"frame%0*d.png\" %(4,oldFrameNum+indexOfMin+1))\n",
    "#        oldFrameNum = oldFrameNum + indexOfMin + 1\n",
    "#    print \"All frames writen\"\n",
    "#    video.release()\n",
    "#    print \"Video Released\"\n",
    "#    cv2.destroyAllWindow()\n",
    "#    print \"All Windows Destroyed\"\n",
    "                    \n",
    "#Main Function\n",
    "#Call rebuilding function with a frame count AND a similarity metric as a parameter\n",
    "#We need to add the ability to call either frameTargetRebuild or movingWindow with a similarity metric as a parameter\n",
    "frameTargetRebuild(750, 3, 1)\n"
   ]
  },
  {
   "cell_type": "code",
   "execution_count": null,
   "metadata": {
    "collapsed": true
   },
   "outputs": [],
   "source": []
  },
  {
   "cell_type": "code",
   "execution_count": null,
   "metadata": {
    "collapsed": true
   },
   "outputs": [],
   "source": []
  }
 ],
 "metadata": {
  "kernelspec": {
   "display_name": "Python 2",
   "language": "python",
   "name": "python2"
  },
  "language_info": {
   "codemirror_mode": {
    "name": "ipython",
    "version": 2
   },
   "file_extension": ".py",
   "mimetype": "text/x-python",
   "name": "python",
   "nbconvert_exporter": "python",
   "pygments_lexer": "ipython2",
   "version": "2.7.13"
  }
 },
 "nbformat": 4,
 "nbformat_minor": 2
}
