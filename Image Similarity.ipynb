{
 "cells": [
  {
   "cell_type": "code",
   "execution_count": 16,
   "metadata": {
    "collapsed": false
   },
   "outputs": [
    {
     "name": "stdout",
     "output_type": "stream",
     "text": [
      "Similarity metric computed.\n",
      "Now Building Video\n",
      "All frames writen\n",
      "Video released\n",
      "All Windows Destroyed\n"
     ]
    }
   ],
   "source": [
    "import cv2\n",
    "import numpy as np\n",
    "from skimage.measure import structural_similarity as ssim\n",
    "\n",
    "def mse (image1, image2):\n",
    "    error = np.sum((image1.astype('float') - image2.astype('float'))**2)\n",
    "    #We assume there are the same number of pixels in the images\n",
    "    error = error/float(image1.shape[0]*image1.shape[1])\n",
    "    return error\n",
    "\n",
    "def ssimCompare (image1, image2):\n",
    "    #Need to fix this!\n",
    "    return ssim(image1, image2)\n",
    "\n",
    "differenceCount = 1\n",
    "count = 166\n",
    "rebuildIndex = 0\n",
    "#Create Empty List\n",
    "frameDiffList = [None] * (count -1)\n",
    "#Find Difference and Fill List\n",
    "while differenceCount < count -1:\n",
    "    #open two images\n",
    "    image1 = cv2.imread(\"frame%d.jpeg\" %differenceCount)\n",
    "    image2 = cv2.imread(\"frame%d.jpeg\" %(differenceCount+1)) \n",
    "    #call mse\n",
    "    imageDiff = mse(image1, image2)\n",
    "    #store result in list\n",
    "    frameDiffList[differenceCount] = imageDiff    \n",
    "    #repeat\n",
    "    differenceCount +=1\n",
    "print \"Similarity metric computed.\"\n",
    "\n",
    "#rebuilding a video    \n",
    "print \"Now Building Video\"\n",
    "sampleimageshape = cv2.imread('frame1.jpeg')\n",
    "height, width, layers = sampleimageshape.shape\n",
    "video = cv2.VideoWriter('new.avi', 0, 30.0, (width, height))\n",
    "while rebuildIndex < count-1:\n",
    "    #run through list and if the threshold is less than something we add to the new movie\n",
    "    if(frameDiffList[rebuildIndex]<10):\n",
    "        video.write(cv2.imread('frame%d.jpeg' %(rebuildIndex+1)))\n",
    "        #print \"frames writen frame%d.jpeg\" %(rebuildIndex+1)\n",
    "        video.write(cv2.imread('frame%d.jpeg' %(rebuildIndex+2)))\n",
    "        #print \"frames writen frame%d.jpeg\" %(rebuildIndex+2)\n",
    "    rebuildIndex +=2\n",
    "print \"All frames writen\"\n",
    "video.release()\n",
    "print \"Video released\"\n",
    "cv2.destroyAllWindows()\n",
    "print \"All Windows Destroyed\"   "
   ]
  },
  {
   "cell_type": "code",
   "execution_count": null,
   "metadata": {
    "collapsed": true
   },
   "outputs": [],
   "source": []
  },
  {
   "cell_type": "code",
   "execution_count": null,
   "metadata": {
    "collapsed": true
   },
   "outputs": [],
   "source": []
  }
 ],
 "metadata": {
  "kernelspec": {
   "display_name": "Python 2",
   "language": "python",
   "name": "python2"
  },
  "language_info": {
   "codemirror_mode": {
    "name": "ipython",
    "version": 2
   },
   "file_extension": ".py",
   "mimetype": "text/x-python",
   "name": "python",
   "nbconvert_exporter": "python",
   "pygments_lexer": "ipython2",
   "version": "2.7.13"
  }
 },
 "nbformat": 4,
 "nbformat_minor": 2
}
