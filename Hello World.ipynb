{
 "cells": [
  {
   "cell_type": "code",
   "execution_count": 12,
   "metadata": {
    "collapsed": false
   },
   "outputs": [
    {
     "name": "stdout",
     "output_type": "stream",
     "text": [
      "Hello World\n",
      "0\n",
      "This is in our loop\n",
      "1\n",
      "This is in our loop\n",
      "2\n",
      "This is in our loop\n",
      "But removing Idents Closes a Loop\n"
     ]
    }
   ],
   "source": [
    "print \"Hello World\"\n",
    "i = 0\n",
    "while(i<3):\n",
    "    print(i)\n",
    "    i+=1\n",
    "    print \"This is in our loop\"\n",
    "#Indents close loops, not curly braces. This is comment\n",
    "print \"But removing Idents Closes a Loop\"\n"
   ]
  },
  {
   "cell_type": "code",
   "execution_count": null,
   "metadata": {
    "collapsed": true
   },
   "outputs": [],
   "source": []
  },
  {
   "cell_type": "code",
   "execution_count": null,
   "metadata": {
    "collapsed": true
   },
   "outputs": [],
   "source": []
  }
 ],
 "metadata": {
  "kernelspec": {
   "display_name": "Python 2",
   "language": "python",
   "name": "python2"
  },
  "language_info": {
   "codemirror_mode": {
    "name": "ipython",
    "version": 2
   },
   "file_extension": ".py",
   "mimetype": "text/x-python",
   "name": "python",
   "nbconvert_exporter": "python",
   "pygments_lexer": "ipython2",
   "version": "2.7.13"
  }
 },
 "nbformat": 4,
 "nbformat_minor": 2
}
