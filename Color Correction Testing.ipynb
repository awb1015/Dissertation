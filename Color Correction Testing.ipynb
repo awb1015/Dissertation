{
 "cells": [
  {
   "cell_type": "code",
   "execution_count": 10,
   "metadata": {
    "collapsed": false
   },
   "outputs": [
    {
     "name": "stdout",
     "output_type": "stream",
     "text": [
      "Calculating Averages\n",
      "Averages computed now plotting\n"
     ]
    },
    {
     "data": {
      "image/png": "[encoded data removed]",
      "text/plain": [
       "<matplotlib.figure.Figure at 0xb199c88>"
      ]
     },
     "metadata": {},
     "output_type": "display_data"
    },
    {
     "name": "stdout",
     "output_type": "stream",
     "text": [
      "Now filtering averages and standard deviations\n"
     ]
    },
    {
     "data": {
      "image/png": "[encoded data removed]",
      "text/plain": [
       "<matplotlib.figure.Figure at 0xaf787f0>"
      ]
     },
     "metadata": {},
     "output_type": "display_data"
    }
   ],
   "source": [
    "import cv2\n",
    "import numpy as np\n",
    "from matplotlib import pyplot as plt\n",
    "import scipy\n",
    "import scipy.ndimage\n",
    "import os\n",
    "\n",
    "#This code is based on the link below\n",
    "#http://www.pyimagesearch.com/2014/01/22/clever-girl-a-guide-to-utilizing-color-histograms-for-computer-vision-and-image-search-engines/\n",
    "def showFlattenedHist(image):\n",
    "    chans = cv2.split(image)\n",
    "    colors = (\"b\", \"g\", \"r\")\n",
    "    plt.figure()\n",
    "    plt.title(\"'Flattened' Color Histogram\")\n",
    "    plt.xlabel(\"Bins\")\n",
    "    plt.ylabel(\"# of Pixels\")\n",
    "    features = []\n",
    "    for (chan, color) in zip(chans, colors):\n",
    "        hist = cv2.calcHist([chan], [0], None, [256], [0, 256])\n",
    "        features.extend(hist)\n",
    "        plt.plot(hist, color = color)\n",
    "        plt.xlim([0, 256])\n",
    "    plt.show()\n",
    "    print \"flattened feature vector size: %d\" % (np.array(features).flatten().shape)\n",
    "\n",
    "def colorCorrect(frameCount):\n",
    "    #Create Lists to Store these values\n",
    "    average_colours = np.zeros((frameCount+1, 3))\n",
    "    std_dev_colours = np.zeros((frameCount+1, 3))\n",
    "    print 'Calculating Averages'\n",
    "    #Open images, calculate RGB and Standard Dev and Add to List\n",
    "    for i in range(0, frameCount+1):\n",
    "        image = cv2.imread('C:\\\\Users\\\\Alex\\\\Documents\\\\Dissertation\\\\cleanedTimeLapseFrame\\\\image%0*d.jpg' %(4, i))\n",
    "        #OpenCV sees colour values as BGR\n",
    "        #Code based on this URL\n",
    "        #http://miriamposner.com/classes/medimages/3-use-opencv-to-find-the-average-color-of-an-image/\n",
    "        avg_colour_per_row = np.average(image, axis=0)\n",
    "        avg_colour = np.average(avg_colour_per_row, axis=0)\n",
    "        std_dev_per_row = np.std(image, axis=0)\n",
    "        std_dev_colour = np.std(std_dev_per_row, axis = 0)\n",
    "        #This tuple should be our avergage B, G, R values and std dev, fill some kind of data structure\n",
    "        average_colours[i,0] = avg_colour[0]\n",
    "        average_colours[i,1] = avg_colour[1]\n",
    "        average_colours[i,2] = avg_colour[2]\n",
    "        std_dev_colours[i,0] = std_dev_colour[0]\n",
    "        std_dev_colours[i,1] = std_dev_colour[1]\n",
    "        std_dev_colours[i,2] = std_dev_colour[2]\n",
    "    print 'Averages computed now plotting'\n",
    "    #Lets plot our averages and std_dev\n",
    "    plotaveragesstd(average_colours, frameCount)\n",
    "    #Now apply a low pass filter to colours and standard deviations\n",
    "    print 'Now filtering averages and standard deviations'\n",
    "    #First Filter B/G/R Values\n",
    "    filtered_b = lowPassGaussianFilter(average_colours[:,0], frameCount)\n",
    "    filtered_g = lowPassGaussianFilter(average_colours[:,1], frameCount)\n",
    "    filtered_r = lowPassGaussianFilter(average_colours[:,2], frameCount)\n",
    "    #Now Filter Standard Deviations\n",
    "    filtered_b_std = lowPassGaussianFilter(std_dev_colours[:,0], frameCount)\n",
    "    filtered_g_std = lowPassGaussianFilter(std_dev_colours[:,1], frameCount)\n",
    "    filtered_r_std = lowPassGaussianFilter(std_dev_colours[:,2], frameCount)\n",
    "    #Create Directory for new images\n",
    "    if not os.path.exists('C:/Users/Alex/Documents/Dissertation/colorCorrectedImagesforFFMPEG'):\n",
    "            os.makedirs('C:/Users/Alex/Documents/Dissertation/colorCorrectedImagesforFFMPEG')\n",
    "    #Now normalise images and save\n",
    "    for i in range(0, frameCount+1):\n",
    "        #Open Image\n",
    "        image = cv2.imread('C:\\\\Users\\\\Alex\\\\Documents\\\\Dissertation\\\\cleanedTimeLapseFrame\\\\image%0*d.jpg' %(4, i))\n",
    "        adjustedimage = np.zeros_like(image)\n",
    "        #Adjust each channel individually\n",
    "        #Blue\n",
    "        bmean = average_colours[i,0]\n",
    "        bstdev = std_dev_colours[i,0]\n",
    "        bfiltered_mean = filtered_b[i]\n",
    "        bfiltered_stdev = filtered_b_std[i]\n",
    "        adjustedimage[0,:,:] = (image[0,:,:] - bmean)/bstdev * bfiltered_stdev + bfiltered_mean        \n",
    "        #Green\n",
    "        gmean = average_colours[i,1]\n",
    "        gstdev = std_dev_colours[i,1]\n",
    "        gfiltered_mean = filtered_g[i]\n",
    "        gfiltered_stdev = filtered_g_std[i]\n",
    "        adjustedimage[:,0,:] = (image[:,0,:] - gmean)/gstdev * gfiltered_stdev + gfiltered_mean     \n",
    "        #Red\n",
    "        rmean = average_colours[i,2]\n",
    "        rstdev = std_dev_colours[i,2]\n",
    "        rfiltered_mean = filtered_r[i]\n",
    "        rfiltered_stdev = filtered_r_std[i]\n",
    "        adjustedimage[:,:,0] = (image[:,:,0] - rmean)/rstdev * rfiltered_stdev + rfiltered_mean \n",
    "        #Write\n",
    "        cv2.imwrite('C:\\\\Users\\\\Alex\\\\Documents\\\\Dissertation\\\\colorCorrectedImagesforFFMPEG\\\\image%0*d.jpg' %(4,i), adjustedimage)\n",
    "\n",
    "def plotaveragesstd(average_colours, frameCount):\n",
    "    plt.figure()\n",
    "    plt.title(\"Average RGB values per Frame\")\n",
    "    plt.xlabel(\"Frame Number\")\n",
    "    plt.ylabel(\"Value\")\n",
    "    for i in range(0, frameCount+1):\n",
    "        plt.plot(i, average_colours[i,0], marker='.', ms = 3, alpha=1, color='b')\n",
    "        plt.plot(i, average_colours[i,1], marker='.', ms = 3, alpha=1, color='g')\n",
    "        plt.plot(i, average_colours[i,2], marker='.', ms = 3, alpha=1, color='r')\n",
    "    plt.show()\n",
    "\n",
    "def lowPassGaussianFilter(inputlist, frameCount):\n",
    "    filteredlist = np.zeros((frameCount+1))\n",
    "    sigma = 0\n",
    "    scipy.ndimage.filters.gaussian_filter1d(inputlist, sigma, axis=-1, output = filteredlist, truncate=4.0)\n",
    "    return filteredlist\n",
    "    \n",
    "\n",
    "#Read two images\n",
    "#image1 = cv2.imread('C:\\\\Users\\\\Alex\\\\Documents\\\\Dissertation\\\\cleanedTimeLapseFrame\\\\image0000.jpg')\n",
    "#image2 = cv2.imread('C:\\\\Users\\\\Alex\\\\Documents\\\\Dissertation\\\\cleanedTimeLapseFrame\\\\image0001.jpg')\n",
    "#showFlattenedHist(image2)\n",
    "#Now let's attempt to plot a basic histogram for the colour channels of this image\n",
    "colorCorrect(50)\n",
    "\n"
   ]
  },
  {
   "cell_type": "code",
   "execution_count": null,
   "metadata": {
    "collapsed": true
   },
   "outputs": [],
   "source": []
  },
  {
   "cell_type": "code",
   "execution_count": null,
   "metadata": {
    "collapsed": true
   },
   "outputs": [],
   "source": []
  }
 ],
 "metadata": {
  "kernelspec": {
   "display_name": "Python 2",
   "language": "python",
   "name": "python2"
  },
  "language_info": {
   "codemirror_mode": {
    "name": "ipython",
    "version": 2
   },
   "file_extension": ".py",
   "mimetype": "text/x-python",
   "name": "python",
   "nbconvert_exporter": "python",
   "pygments_lexer": "ipython2",
   "version": "2.7.13"
  }
 },
 "nbformat": 4,
 "nbformat_minor": 2
}
